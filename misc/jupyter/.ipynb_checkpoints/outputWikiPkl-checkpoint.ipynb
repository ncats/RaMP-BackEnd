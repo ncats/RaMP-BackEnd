{
 "cells": [
  {
   "cell_type": "code",
   "execution_count": 1,
   "metadata": {},
   "outputs": [
    {
     "data": {
      "text/plain": [
       "'C:\\\\Users\\\\81963\\\\Documents\\\\workspace\\\\RaMP'"
      ]
     },
     "execution_count": 1,
     "metadata": {},
     "output_type": "execute_result"
    }
   ],
   "source": [
    "import sys\n",
    "import os\n",
    "\n",
    "os.chdir('../../')\n",
    "os.getcwd()\n",
    "\n",
    "\n"
   ]
  },
  {
   "cell_type": "code",
   "execution_count": 2,
   "metadata": {},
   "outputs": [],
   "source": [
    "os.chdir('src/')"
   ]
  },
  {
   "cell_type": "code",
   "execution_count": 3,
   "metadata": {},
   "outputs": [],
   "source": [
    "from wikipathwaysData import wikipathwaysData"
   ]
  },
  {
   "cell_type": "code",
   "execution_count": 4,
   "metadata": {},
   "outputs": [
    {
     "name": "stdout",
     "output_type": "stream",
     "text": [
      "['Hs_4-hydroxytamoxifen,_Dexamethasone,_and_Retinoic_Acids_Regulation_of_p27_Expression_WP3879_94799.gpml', 'Hs_Acetylcholine_Synthesis_WP528_79855.gpml', 'Hs_ACE_Inhibitor_Pathway_WP554_92084.gpml', 'Hs_Adipogenesis_WP236_80209.gpml', 'Hs_Aflatoxin_B1_metabolism_WP699_93244.gpml', 'Hs_AGE-RAGE_pathway_WP2324_89798.gpml', 'Hs_Alanine_and_aspartate_metabolism_WP106_94196.gpml', 'Hs_Allograft_Rejection_WP2328_92211.gpml', 'Hs_Alpha_6_Beta_4_signaling_pathway_WP244_85199.gpml', 'Hs_Alzheimers_Disease_WP2059_87372.gpml', 'Hs_Amino_acid_conjugation_of_benzoic_acid_WP521_88588.gpml', 'Hs_Amino_acid_conjugation_WP715_94201.gpml', 'Hs_Amino_Acid_metabolism_WP3925_90737.gpml', 'Hs_AMP-activated_Protein_Kinase_(AMPK)_Signaling_WP1403_90259.gpml', 'Hs_Amplification_and_Expansion_of_Oncogenic_Pathways_as_Metastatic_Traits_WP3678_90110.gpml', 'Hs_Amyotrophic_lateral_sclerosis_(ALS)_WP2447_85186.gpml', 'Hs_Androgen_receptor_signaling_pathway_WP138_79958.gpml', 'Hs_Angiogenesis_WP1539_95042.gpml', 'Hs_Angiopoietin_Like_Protein_8_Regulatory_Pathway_WP3915_94801.gpml', 'Hs_ApoE_and_miR-146_in_inflammation_and_atherosclerosis_WP3926_90739.gpml', 'Hs_Apoptosis-related_network_due_to_altered_Notch3_in_ovarian_cancer_WP2864_79278.gpml', 'Hs_Apoptosis_Modulation_and_Signaling_WP1772_94912.gpml', 'Hs_Apoptosis_Modulation_by_HSP70_WP384_67054.gpml', 'Hs_Apoptosis_WP254_95107.gpml', 'Hs_Arachidonate_Epoxygenase_-_Epoxide_Hydrolase_WP678_94200.gpml', 'Hs_Arrhythmogenic_Right_Ventricular_Cardiomyopathy_WP2118_71265.gpml', 'Hs_Arylamine_metabolism_WP694_89536.gpml', 'Hs_Aryl_Hydrocarbon_Receptor_Pathway_WP2873_95229.gpml', 'Hs_Aryl_Hydrocarbon_Receptor_WP2586_91687.gpml', 'Hs_Association_Between_Physico-Chemical_Features_and_Toxicity_Associated_Pathways_WP3680_90113.gpml', 'Hs_ATM_Signaling_Network_in_Development_and_Disease_WP3878_89745.gpml', 'Hs_ATM_Signaling_Pathway_WP2516_90247.gpml', 'Hs_ATR_Signaling_WP3875_90121.gpml', 'Hs_BDNF-TrkB_Signaling_WP3676_94186.gpml', 'Hs_Benzene_metabolism_WP3891_94538.gpml', 'Hs_Benzo(a)pyrene_metabolism_WP696_94805.gpml', 'Hs_Biochemical_Pathways_Part_I_WP3604_94542.gpml', 'Hs_Biogenic_Amine_Synthesis_WP550_90171.gpml', 'Hs_Biosynthesis_and_regeneration_of_tetrahydrobiopterin_(BH4)_and_catabolism_of_phenylalanine,_including_diseases_WP4156_94865.gpml', 'Hs_Bladder_Cancer_WP2828_89143.gpml', 'Hs_Blood_Clotting_Cascade_WP272_95523.gpml', 'Hs_BMP2-WNT4-FOXO1_Pathway_in_Human_Primary_Endometrial_Stromal_Cell_Differentiation_WP3876_94744.gpml', 'Hs_BMP_Signaling_Pathway_in_Eyelid_Development_WP3927_90735.gpml', 'Hs_Bone_Morphogenic_Protein_(BMP)_Signalling_and_Regulation_WP1425_86082.gpml', 'Hs_Brain-Derived_Neurotrophic_Factor_(BDNF)_signaling_pathway_WP2380_94178.gpml', 'Hs_Butyrate-induced_histone_acetylation_WP2366_89148.gpml', 'Hs_B_Cell_Receptor_Signaling_Pathway_WP23_92558.gpml', 'Hs_Caffeine_and_Theobromine_metabolism_WP3633_85154.gpml', 'Hs_Calcium_Regulation_in_the_Cardiac_Cell_WP536_95108.gpml', 'Hs_Caloric_restriction_and_aging_WP4191_95530.gpml', 'Hs_Cannabinoid_receptor_signaling_WP3869_94926.gpml', 'Hs_Canonical_and_Non-canonical_Notch_signaling_WP3845_90027.gpml', 'Hs_Canonical_and_Non-Canonical_TGF-B_signaling_WP3874_89272.gpml', 'Hs_Cardiac_Hypertrophic_Response_WP2795_85087.gpml', 'Hs_Cardiac_Progenitor_Differentiation_WP2406_89157.gpml', 'Hs_Catalytic_cycle_of_mammalian_Flavin-containing_MonoOxygenases_(FMOs)_WP688_94198.gpml', 'Hs_Cell-type_Dependent_Selectivity_of_CCK2R_Signaling_WP3679_94188.gpml', 'Hs_Cell_Cycle_WP179_93002.gpml', 'Hs_Cell_Differentiation_-_Index_WP2029_95144.gpml', 'Hs_Chemokine_signaling_pathway_WP3929_90949.gpml', 'Hs_Cholesterol_Biosynthesis_WP197_91292.gpml', 'Hs_Circadian_rythm_related_genes_WP3594_87161.gpml', 'Hs_Codeine_and_Morphine_Metabolism_WP1604_95222.gpml', 'Hs_Colchicine_Metabolic_Pathway_WP2536_92288.gpml', 'Hs_Common_Pathways_Underlying_Drug_Addiction_WP2636_95595.gpml', 'Hs_Complement_Activation_WP545_89636.gpml', 'Hs_Complement_and_Coagulation_Cascades_WP558_95109.gpml', 'Hs_Composition_of_Lipid_Particles_WP3601_89202.gpml', 'Hs_Constitutive_Androstane_Receptor_Pathway_WP2875_94791.gpml', 'Hs_Copper_homeostasis_WP3286_93705.gpml', 'Hs_Cori_Cycle_WP1946_94218.gpml', 'Hs_Corticotropin-releasing_hormone_signaling_pathway_WP2355_94191.gpml', 'Hs_Cytokines_and_Inflammatory_Response_WP530_94907.gpml', 'Hs_Cytoplasmic_Ribosomal_Proteins_WP477_67139.gpml', 'Hs_DDX1_as_a_regulatory_component_of_the_Drosha_microprocessor_WP2942_94276.gpml', 'Hs_Degradation_pathway_of_sphingolipids,_including_diseases_WP4153_94607.gpml', 'Hs_Deregulation_of_Rab_and_Rab_Effector_Genes_in_Bladder_Cancer_WP2291_85341.gpml', 'Hs_Development_and_heterogeneity_of_the_ILC_family_WP3893_89702.gpml', 'Hs_Development_of_pulmonary_dendritic_cells_and_macrophage_subsets_WP3892_89703.gpml', 'Hs_Diclofenac_Metabolic_Pathway_WP2491_92287.gpml', 'Hs_Differentiation_of_white_and_brown_adipocyte_WP2895_87889.gpml', 'Hs_Differentiation_Pathway_WP2848_89940.gpml', 'Hs_DNA_Damage_Response_(only_ATM_dependent)_WP710_95580.gpml', 'Hs_DNA_Damage_Response_WP707_94731.gpml', 'Hs_DNA_IR-damage_and_cellular_response_via_ATR_WP4016_94684.gpml', 'Hs_DNA_IR-Double_Strand_Breaks_(DSBs)_and_cellular_response_via_ATM_WP3959_95280.gpml', 'Hs_DNA_Replication_WP466_94886.gpml', 'Hs_Dopaminergic_Neurogenesis_WP2855_87239.gpml', 'Hs_Dopamine_metabolism_WP2436_94675.gpml', 'Hs_Drug_Induction_of_Bile_Acid_Pathway_WP2289_88593.gpml', 'Hs_Dual_hijack_model_of_Vif_in_HIV_infection_WP3300_87896.gpml', 'Hs_EBV_LMP1_signaling_WP262_86888.gpml', 'Hs_Ectoderm_Differentiation_WP2858_94911.gpml', 'Hs_EDA_Signalling_in_Hair_Follicle_Development_WP3930_90751.gpml', 'Hs_Effects_of_Nitric_Oxide_WP1995_88595.gpml', 'Hs_EGF-EGFR_Signaling_Pathway_WP437_79266.gpml', 'Hs_Eicosanoid_Synthesis_WP167_89514.gpml', 'Hs_eIF5A_regulation_in_response_to_inhibition_of_the_nuclear_export_system_WP3302_87966.gpml', 'Hs_Electron_Transport_Chain_WP111_95118.gpml', 'Hs_Endochondral_Ossification_WP474_95499.gpml', 'Hs_Endoderm_Differentiation_WP2853_88152.gpml', 'Hs_Endometrial_cancer_WP4155_95371.gpml', 'Hs_Endothelin_Pathways_WP2197_94181.gpml', 'Hs_Energy_Metabolism_WP1541_94314.gpml', 'Hs_EPO_Receptor_Signaling_WP581_86897.gpml', 'Hs_ErbB_Signaling_Pathway_WP673_94739.gpml', \"Hs_ERK_Pathway_in_Huntington's_Disease_WP3853_89748.gpml\", 'Hs_ESC_Pluripotency_Pathways_WP3931_94310.gpml', 'Hs_Estrogen_metabolism_WP697_94909.gpml', 'Hs_Estrogen_Receptor_Pathway_WP2881_94937.gpml', 'Hs_Estrogen_signaling_pathway_WP712_78491.gpml', 'Hs_Ethanol_effects_on_histone_modifications_WP3996_93015.gpml', 'Hs_Eukaryotic_Transcription_Initiation_WP405_94824.gpml', 'Hs_Evolocumab_Mechanism_WP3408_88049.gpml', 'Hs_EV_release_from_cardiac_cells_and_their_functional_effects_WP3297_88048.gpml', 'Hs_Exercise-induced_Circadian_Regulation_WP410_90752.gpml', 'Hs_Extracellular_vesicle-mediated_signaling_in_recipient_cells_WP2870_88052.gpml', 'Hs_Factors_and_pathways_affecting_insulin-like_growth_factor_(IGF1)-Akt_signaling_WP3850_88165.gpml', 'Hs_Farnesoid_X_Receptor_Pathway_WP2879_94789.gpml', 'Hs_Fas_Ligand_(FasL)_pathway_and_Stress_induction_of_Heat_Shock_Proteins_(HSP)_regulation_WP314_94814.gpml', 'Hs_Fatty_Acid_Beta_Oxidation_WP143_94768.gpml', 'Hs_Fatty_Acid_Biosynthesis_WP357_94197.gpml', 'Hs_Fatty_Acid_Omega_Oxidation_WP206_94194.gpml', 'Hs_Felbamate_Metabolism_WP2816_92386.gpml', 'Hs_Fibrin_Complement_Receptor_3_Signaling_Pathway_WP4136_95528.gpml', 'Hs_Fluoropyrimidine_Activity_WP1601_95004.gpml', 'Hs_Focal_Adhesion-PI3K-Akt-mTOR-signaling_pathway_WP3932_94216.gpml', 'Hs_Focal_Adhesion_WP306_95135.gpml', 'Hs_Folate-Alcohol_and_Cancer_Pathway_WP1589_92113.gpml', 'Hs_Folate_Metabolism_WP176_95130.gpml', 'Hs_Follicle_Stimulating_Hormone_(FSH)_signaling_pathway_WP2035_86080.gpml', 'Hs_FTO_Obesity_Variant_Mechanism_WP3407_89858.gpml', 'Hs_G13_Signaling_Pathway_WP524_95116.gpml', 'Hs_G1_to_S_cell_cycle_control_WP45_95145.gpml', 'Hs_GABA_receptor_Signaling_WP4159_94955.gpml', 'Hs_Ganglio_Sphingolipid_Metabolism_WP1423_94289.gpml', 'Hs_Gastric_acid_production_WP2596_87520.gpml', 'Hs_Gastric_Cancer_Network_1_WP2361_86831.gpml', 'Hs_Gastric_Cancer_Network_2_WP2363_87523.gpml', 'Hs_Gene_regulatory_network_modelling_somitogenesis_WP2854_87527.gpml', 'Hs_GHB_metabolic_pathway_WP4157_94898.gpml', 'Hs_Glial_Cell_Differentiation_WP2276_94751.gpml', 'Hs_Globo_Sphingolipid_Metabolism_WP1424_94290.gpml', 'Hs_Glucocorticoid_and_Mineralcorticoid_Metabolism_WP237_95658.gpml', 'Hs_Glucose_Homeostasis_WP661_88591.gpml', 'Hs_Glucuronidation_WP698_94183.gpml', 'Hs_Glutathione_metabolism_WP100_93097.gpml', 'Hs_Glycerophospholipid_Biosynthetic_Pathway_WP2533_95594.gpml', 'Hs_Glycogen_Metabolism_WP500_94085.gpml', 'Hs_Glycolysis_and_Gluconeogenesis_WP534_94762.gpml', 'Hs_GPCRs,_Class_A_Rhodopsin-like_WP455_81793.gpml', 'Hs_GPCRs,_Class_B_Secretin-like_WP334_79716.gpml', 'Hs_GPCRs,_Class_C_Metabotropic_glutamate,_pheromone_WP501_79715.gpml', 'Hs_GPCRs,_Other_WP117_82985.gpml', 'Hs_GPR40_Pathway_WP3958_94758.gpml', 'Hs_G_Protein_Signaling_Pathways_WP35_88601.gpml', 'Hs_H19_action_Rb-E2F1_signaling_and_CDK-β-catenin_activity_WP3969_94706.gpml', 'Hs_Heart_Development_WP1591_94736.gpml', 'Hs_Hedgehog_Signaling_Pathway_WP47_78542.gpml', 'Hs_Hematopoietic_Stem_Cell_Gene_Regulation_by_GABP_alpha-beta_Complex_WP3657_89276.gpml', 'Hs_Heme_Biosynthesis_WP561_93014.gpml', 'Hs_Hepatitis_C_and_Hepatocellular_Carcinoma_WP3646_88640.gpml', 'Hs_Heroin_metabolism_WP2645_95179.gpml', 'Hs_Hfe_effect_on_hepcidin_production_WP3924_90736.gpml', 'Hs_HIF1A_and_PPARG_regulation_of_glycolysis_WP2456_95512.gpml', 'Hs_Histone_Modifications_WP2369_87373.gpml', 'Hs_Homologous_recombination_WP186_68935.gpml', 'Hs_Hormonal_control_of_Pubertal_Growth_Spurt_WP4194_95576.gpml', 'Hs_Human_metabolism_overview_WP3602_94732.gpml', 'Hs_Human_Thyroid_Stimulating_Hormone_(TSH)_signaling_pathway_WP2032_89823.gpml', 'Hs_Hypertrophy_Model_WP516_94803.gpml', 'Hs_Hypothesized_Pathways_in_Pathogenesis_of_Cardiovascular_Disease_WP3668_90185.gpml', 'Hs_Hypothetical_Craniofacial_Development_Pathway_WP3655_88473.gpml', 'Hs_Hypoxia-mediated_EMT_and_Stemness_WP2943_88661.gpml', 'Hs_ID_signaling_pathway_WP53_67360.gpml', 'Hs_IL-1_signaling_pathway_WP195_89932.gpml', 'Hs_IL-2_Signaling_Pathway_WP49_95132.gpml', 'Hs_IL-3_Signaling_Pathway_WP286_78583.gpml', 'Hs_IL-4_Signaling_Pathway_WP395_89828.gpml', 'Hs_IL-5_Signaling_Pathway_WP127_78498.gpml', 'Hs_IL-6_signaling_pathway_WP364_89832.gpml', 'Hs_IL-7_Signaling_Pathway_WP205_89854.gpml', 'Hs_IL-9_Signaling_Pathway_WP22_79264.gpml', 'Hs_IL17_signaling_pathway_WP2112_94745.gpml', 'Hs_IL1_and_megakaryocytes_in_obesity_WP2865_88662.gpml', 'Hs_Imatinib_and_Chronic_Myeloid_Leukemia_WP3640_89384.gpml', 'Hs_Inflammatory_Response_Pathway_WP453_95436.gpml', 'Hs_Influenza_A_virus_infection_WP1438_94906.gpml', 'Hs_Initiation_of_transcription_and_translation_elongation_at_the_HIV-1_LTR_WP3414_87386.gpml', 'Hs_Insulin_Signaling_WP481_94171.gpml', 'Hs_Insulin_signalling_in_human_adipocytes_(diabetic_condition)_WP3635_86059.gpml', 'Hs_Insulin_signalling_in_human_adipocytes_(normal_condition)_WP3634_86060.gpml', 'Hs_Integrated_Breast_Cancer_Pathway_WP1984_95143.gpml', 'Hs_Integrated_Cancer_Pathway_WP1971_82939.gpml', 'Hs_Integrin-mediated_Cell_Adhesion_WP185_88160.gpml', 'Hs_Interactome_of_polycomb_repressive_complex_2_(PRC2)_WP2916_88672.gpml', 'Hs_Interferon_type_I_signaling_pathways_WP585_94686.gpml', 'Hs_Interleukin-11_Signaling_Pathway_WP2332_79525.gpml', 'Hs_Interleukin-1_Induced_Activation_of_NF-kappa-B_WP3656_89274.gpml', 'Hs_Irinotecan_Pathway_WP229_93199.gpml', 'Hs_Iron_metabolism_in_placenta_WP2007_69751.gpml', 'Hs_Kennedy_pathway_from_Sphingolipids_WP3933_95585.gpml', 'Hs_Kit_receptor_signaling_pathway_WP304_78799.gpml', 'Hs_Leptin_and_adiponectin_WP3934_90768.gpml', 'Hs_Leptin_Insulin_Overlap_WP3935_90771.gpml', 'Hs_Leptin_signaling_pathway_WP2034_89856.gpml', 'Hs_Lidocaine_metabolism_WP2646_94915.gpml', 'Hs_Lipid_Metabolism_Pathway_WP3965_95533.gpml', 'Hs_Liver_X_Receptor_Pathway_WP2874_94790.gpml', 'Hs_LncRNA-mediated_mechanisms_of_therapeutic_resistance_WP3672_87395.gpml', 'Hs_Lung_fibrosis_WP3624_95209.gpml', 'Hs_Macrophage_markers_WP4146_94392.gpml', 'Hs_MAPK_and_NFkB_Signalling_Pathways_Inhibited_by_Yersinia_YopJ_WP3849_89943.gpml', 'Hs_MAPK_Cascade_WP422_95146.gpml', 'Hs_MAPK_Signaling_Pathway_WP382_95114.gpml', 'Hs_Matrix_Metalloproteinases_WP129_72054.gpml', 'Hs_MECP2_and_Associated_Rett_Syndrome_WP3584_91190.gpml', 'Hs_Melatonin_metabolism_and_effects_WP3298_91618.gpml', 'Hs_Mesodermal_Commitment_Pathway_WP2857_87780.gpml', 'Hs_Metabolism_of_Spingolipids_in_ER_and_Golgi_apparatus_WP4142_95051.gpml', 'Hs_Metabolism_of_Tetrahydrocannabinol_(THC)_WP4174_95899.gpml', 'Hs_Metapathway_biotransformation_WP702_73516.gpml', 'Hs_Metastatic_brain_tumor_WP2249_89836.gpml', 'Hs_Methionine_De_Novo_and_Salvage_Pathway_WP3580_94518.gpml', 'Hs_Methylation_Pathways_WP704_88909.gpml', 'Hs_Mevalonate_arm_of_cholesterol_biosynthesis_pathway_with_inhibitors_WP4189_95821.gpml', 'Hs_Mevalonate_arm_of_cholesterol_biosynthesis_pathway_WP4190_95421.gpml', 'Hs_MFAP5-mediated_ovarian_cancer_cell_motility_and_invasiveness_WP3301_94277.gpml', 'Hs_Microglia_Pathogen_Phagocytosis_Pathway_WP3937_94208.gpml', 'Hs_MicroRNAs_in_cardiomyocyte_hypertrophy_WP1544_89794.gpml', 'Hs_mir-124_predicted_interactions_with_cell_cycle_and_differentiation_WP3595_89883.gpml', 'Hs_miR-148a-miR-31-FIH1-HIF1α-Notch_signaling_in_glioblastoma_WP3593_94282.gpml', 'Hs_miR-222_in_Exercise-Induced_Cardiac_Growth_WP3938_90779.gpml', 'Hs_miR-509-3p_alteration_of_YAP1-ECM_axis_WP3967_94301.gpml', 'Hs_miR-517_relationship_with_ARCN1_and_USP1_WP3596_89884.gpml', 'Hs_mir34a_and_TGIF2_in_osteoclastogenesis_WP2866_87842.gpml', 'Hs_miRNAs_involved_in_DNA_damage_response_WP1545_94759.gpml', 'Hs_miRNA_Biogenesis_WP2338_78504.gpml', 'Hs_miRNA_Regulation_of_DNA_Damage_Response_WP1530_94738.gpml', 'Hs_miRNA_regulation_of_p53_pathway_in_prostate_cancer_WP3982_94298.gpml', 'Hs_miRNA_targets_in_ECM_and_membrane_receptors_WP2911_87847.gpml', 'Hs_miRs_in_Muscle_Cell_Differentiation_WP2012_82900.gpml', 'Hs_Mismatch_repair_WP531_69021.gpml', 'Hs_Mitochondrial_Gene_Expression_WP391_71373.gpml', 'Hs_Mitochondrial_LC-Fatty_Acid_Beta-Oxidation_WP368_94199.gpml', 'Hs_Monoamine_GPCRs_WP58_93101.gpml', 'Hs_Monoamine_Transport_WP727_94734.gpml', 'Hs_mRNA_Processing_WP411_95128.gpml', 'Hs_Myometrial_Relaxation_and_Contraction_Pathways_WP289_89548.gpml', 'Hs_NAD+_biosynthetic_pathways_WP3645_90261.gpml', 'Hs_NAD+_metabolism_WP3644_94904.gpml', 'Hs_NAD_Biosynthesis_II_(from_tryptophan)_WP2485_70025.gpml', 'Hs_NAD_metabolism,_sirtuins_and_aging_WP3630_94184.gpml', 'Hs_Nanomaterial_induced_apoptosis_WP2507_92314.gpml', 'Hs_Nanoparticle-mediated_activation_of_receptor_signaling_WP2643_95473.gpml', 'Hs_Nanoparticle_triggered_autophagic_cell_death_WP2509_92315.gpml', 'Hs_Nanoparticle_triggered_regulated_necrosis_WP2513_92316.gpml', 'Hs_Neural_Crest_Differentiation_WP2064_79263.gpml', 'Hs_Nicotine_Activity_on_Chromaffin_Cells_WP1603_78574.gpml', 'Hs_Nicotine_Activity_on_Dopaminergic_Neurons_WP1602_78486.gpml', 'Hs_Nicotine_Metabolism_WP1600_92822.gpml', 'Hs_NLR_Proteins_WP288_80026.gpml', 'Hs_NO-cGMP-PKG_mediated_Neuroprotection_WP4008_92677.gpml', 'Hs_Non-homologous_end_joining_WP438_80022.gpml', 'Hs_NOTCH1_regulation_of_human_endothelial_cell_calcification_WP3413_87953.gpml', 'Hs_Notch_Signaling_Pathway_WP268_94808.gpml', 'Hs_Notch_Signaling_Pathway_WP61_78592.gpml', 'Hs_NRF2_pathway_WP2884_94787.gpml', 'Hs_Nuclear_Receptors_in_Lipid_Metabolism_and_Toxicity_WP299_89331.gpml', 'Hs_Nuclear_Receptors_WP170_71083.gpml', 'Hs_Nucleotide-binding_Oligomerization_Domain_(NOD)_pathway_WP1433_86035.gpml', 'Hs_Nucleotide_GPCRs_WP80_68938.gpml', 'Hs_Nucleotide_Metabolism_WP404_68960.gpml', 'Hs_Oncostatin_M_Signaling_Pathway_WP2374_92557.gpml', 'Hs_One_carbon_donor_WP2190_88006.gpml', 'Hs_One_carbon_metabolism_and_related_pathways_WP3940_94312.gpml', 'Hs_One_Carbon_Metabolism_WP241_89671.gpml', 'Hs_Osteoblast_Signaling_WP322_90527.gpml', 'Hs_Osteoclast_Signaling_WP12_88602.gpml', 'Hs_Osteopontin_Signaling_WP1434_94913.gpml', 'Hs_Ovarian_Infertility_Genes_WP34_88253.gpml', 'Hs_Overview_of_nanoparticle_effects_WP3287_89371.gpml', 'Hs_Oxidation_by_Cytochrome_P450_WP43_94176.gpml', 'Hs_Oxidative_Damage_WP3941_94696.gpml', 'Hs_Oxidative_phosphorylation_WP623_86899.gpml', 'Hs_Oxidative_Stress_WP408_94131.gpml', 'Hs_Oxytocin_signaling_WP2889_88286.gpml', 'Hs_p38_MAPK_Signaling_Pathway_WP400_95117.gpml', 'Hs_Parkin-Ubiquitin_Proteasomal_System_pathway_WP2359_72121.gpml', 'Hs_Parkinsons_Disease_Pathway_WP2371_87374.gpml', 'Hs_Pathogenic_Escherichia_coli_infection_WP2272_95730.gpml', 'Hs_Pathways_Affected_in_Adenoid_Cystic_Carcinoma_WP3651_89271.gpml', 'Hs_PDGF_Pathway_WP2526_82681.gpml', 'Hs_Pentose_Phosphate_Pathway_WP134_94935.gpml', 'Hs_Peptide_GPCRs_WP24_95856.gpml', 'Hs_Peroxisomal_beta-oxidation_of_tetracosanoyl-CoA_WP1941_94179.gpml', 'Hs_Phase_I_biotransformations,_non_P450_WP136_95126.gpml', 'Hs_Phosphatidylcholine_catabolism_WP4195_95593.gpml', 'Hs_Photodynamic_therapy-induced_HIF-1_survival_signaling_WP3614_89311.gpml', 'Hs_Photodynamic_therapy-induced_NF-kB_survival_signaling_WP3617_88316.gpml', 'Hs_Photodynamic_therapy-induced_NFE2L2_(NRF2)_survival_signaling_WP3612_95149.gpml', 'Hs_Photodynamic_therapy-induced_unfolded_protein_response_WP3613_89330.gpml', 'Hs_Physiological_and_Pathological_Hypertrophy_of_the_Heart_WP1528_94723.gpml', 'Hs_PI3K-AKT-mTOR_-_VitD3_Signalling_WP4141_95854.gpml', 'Hs_PI3K-AKT-mTOR_signaling_pathway_and_therapeutic_opportunities_WP3844_89952.gpml', 'Hs_PI3K-Akt_Signaling_Pathway_WP4172_95701.gpml', 'Hs_Polyol_Pathway_WP690_88335.gpml', 'Hs_PPAR_Alpha_Pathway_WP2878_94794.gpml', 'Hs_PPAR_signaling_pathway_WP3942_94205.gpml', 'Hs_Prader-Willi_and_Angelman_Syndrome_WP3998_95733.gpml', 'Hs_Pregnane_X_Receptor_pathway_WP2876_94905.gpml', 'Hs_Preimplantation_Embryo_WP3527_94671.gpml', 'Hs_Primary_Focal_Segmental_Glomerulosclerosis_FSGS_WP2572_90019.gpml', 'Hs_Prion_disease_pathway_WP3995_94740.gpml', 'Hs_Prolactin_Signaling_Pathway_WP2037_95112.gpml', 'Hs_Proprotein_convertase_subtilisin-kexin_type_9_(PCSK9)_mediated_LDL_receptor_degradation_WP2846_89409.gpml', 'Hs_Prostaglandin_Synthesis_and_Regulation_WP98_95959.gpml', 'Hs_Proteasome_Degradation_WP183_95110.gpml', 'Hs_PTF1A_related_regulatory_pathway_WP4147_94394.gpml', 'Hs_Pyrimidine_metabolism_WP4022_95459.gpml', 'Hs_Rac1-Pak1-p38-MMP-2_pathway_WP3303_94281.gpml', 'Hs_RalA_downstream_regulated_genes_WP2290_79988.gpml', 'Hs_RANKL-RANK_(Receptor_activator_of_NFKB_(ligand))_Signaling_Pathway_WP2018_90016.gpml', 'Hs_Regulation_of_Actin_Cytoskeleton_WP51_94816.gpml', 'Hs_Regulation_of_Apoptosis_by_Parathyroid_Hormone-related_Protein_WP3872_89397.gpml', 'Hs_Regulation_of_Microtubule_Cytoskeleton_WP2038_94910.gpml', 'Hs_Regulation_of_Wnt-B-catenin_Signaling_by_Small_Molecule_Compounds_WP3664_94746.gpml', 'Hs_Retinoblastoma_(RB)_in_Cancer_WP2446_87639.gpml', 'Hs_RIG-I-like_Receptor_Signaling_WP3865_88186.gpml', 'Hs_RNA_interference_WP2805_81654.gpml', 'Hs_Robo4_and_VEGF_Signaling_Pathways_Crosstalk_WP3943_90823.gpml', 'Hs_Role_of_Osx_and_miRNAs_in_tooth_development_WP3971_91525.gpml', 'Hs_SCFA_and_skeletal_muscle_substrate_metabolism_WP4030_93221.gpml', 'Hs_Secretion_of_Hydrochloric_Acid_in_Parietal_Cells_WP2597_87647.gpml', 'Hs_Selenium_Metabolism_and_Selenoproteins_WP28_71888.gpml', 'Hs_Selenium_Micronutrient_Network_WP15_94185.gpml', 'Hs_Senescence_and_Autophagy_in_Cancer_WP615_81193.gpml', 'Hs_Serotonin_and_anxiety-related_events_WP3944_90836.gpml', 'Hs_Serotonin_and_anxiety_WP3947_91925.gpml', 'Hs_Serotonin_Receptor_2_and_ELK-SRF-GATA4_signaling_WP732_80010.gpml', 'Hs_Serotonin_Receptor_2_and_STAT3_Signaling_WP733_74441.gpml', 'Hs_Serotonin_Receptor_4-6-7_and_NR3C_Signaling_WP734_74438.gpml', 'Hs_Serotonin_Transporter_Activity_WP1455_89635.gpml', 'Hs_Signaling_of_Hepatocyte_Growth_Factor_Receptor_WP313_79946.gpml', 'Hs_Signaling_Pathways_in_Glioblastoma_WP2261_89520.gpml', 'Hs_Signal_Transduction_of_S1P_Receptor_WP26_79950.gpml', 'Hs_Simplified_Depiction_of_MYD88_Distinct_Input-Output_Pathway_WP3877_89291.gpml', 'Hs_Simplified_Interaction_Map_Between_LOXL4_and_Oxidative_Stress_Pathway_WP3670_90107.gpml', 'Hs_Small_Ligand_GPCRs_WP247_74422.gpml', 'Hs_Somatroph_axis_(GH)_and_its_relationship_to_dietary_restriction_and_aging_WP4186_95479.gpml', 'Hs_Sphingolipid_Metabolism_WP1422_95422.gpml', 'Hs_Spinal_Cord_Injury_WP2431_87678.gpml', 'Hs_Splicing_factor_NOVA_regulated_synaptic_proteins_WP4148_94396.gpml', 'Hs_SREBF_and_miR33_in_cholesterol_and_lipid_homeostasis_WP2011_89947.gpml', 'Hs_SRF_and_miRs_in_Smooth_Muscle_Differentiation_and_Proliferation_WP1991_89637.gpml', 'Hs_Statin_Pathway_WP430_95223.gpml', 'Hs_Steroid_Biosynthesis_WP496_69016.gpml', 'Hs_Sterol_Regulatory_Element-Binding_Proteins_(SREBP)_signalling_WP1982_90425.gpml', 'Hs_Striated_Muscle_Contraction_WP383_94665.gpml', 'Hs_Structural_Pathway_of_Interleukin_1_(IL-1)_WP2637_87707.gpml', 'Hs_Sudden_Infant_Death_Syndrome_(SIDS)_Susceptibility_Pathways_WP706_92921.gpml', 'Hs_Sulfation_Biotransformation_Reaction_WP692_94192.gpml', 'Hs_Sulindac_Metabolic_Pathway_WP2542_92293.gpml', 'Hs_Synaptic_Vesicle_Pathway_WP2267_85090.gpml', 'Hs_Synthesis_and_Degradation_of_Ketone_Bodies_WP311_68921.gpml', 'Hs_T-Cell_antigen_Receptor_(TCR)_pathway_during_Staphylococcus_aureus_infection_WP3863_90702.gpml', 'Hs_T-Cell_antigen_Receptor_(TCR)_Signaling_Pathway_WP69_89937.gpml', 'Hs_T-Cell_Receptor_and_Co-stimulatory_Signaling_WP2583_86147.gpml', 'Hs_Tamoxifen_metabolism_WP691_92400.gpml', 'Hs_TarBasePathway_WP1992_78296.gpml', 'Hs_Target_Of_Rapamycin_(TOR)_Signaling_WP1471_94755.gpml', 'Hs_TCA_Cycle_and_Deficiency_of_Pyruvate_Dehydrogenase_complex_(PDHc)_WP2453_94220.gpml', 'Hs_TCA_Cycle_Nutrient_Utilization_and_Invasiveness_of_Ovarian_Cancer_WP2868_90260.gpml', 'Hs_TCA_Cycle_WP78_90661.gpml', 'Hs_TFs_Regulate_miRNAs_related_to_cardiac_hypertrophy_WP1559_84698.gpml', 'Hs_TGF-beta_Receptor_Signaling_WP560_94936.gpml', 'Hs_TGF-beta_Signaling_Pathway_WP366_90028.gpml', 'Hs_TGF-B_Signaling_in_Thyroid_Cells_for_Epithelial-Mesenchymal_Transition_WP3859_90120.gpml', 'Hs_Tgif_disruption_of_Shh_signaling_WP3674_88772.gpml', 'Hs_The_human_immune_response_to_tuberculosis_WP4197_95608.gpml', 'Hs_Thyroxine_(Thyroid_Hormone)_Production_WP1981_85189.gpml', 'Hs_TLR4_Signaling_and_Tolerance_WP3851_90114.gpml', 'Hs_TNF_alpha_Signaling_Pathway_WP231_89895.gpml', 'Hs_TNF_related_weak_inducer_of_apoptosis_(TWEAK)_Signaling_Pathway_WP2036_89910.gpml', 'Hs_Toll-like_Receptor_Signaling_Pathway_WP75_94908.gpml', 'Hs_Toll-like_Receptor_Signaling_WP3858_89945.gpml', 'Hs_TP53_Network_WP1742_95548.gpml', 'Hs_Trans-sulfuration_and_one_carbon_metabolism_WP2525_87802.gpml', 'Hs_Trans-sulfuration_pathway_WP2333_72015.gpml', 'Hs_Transcriptional_activation_by_NRF2_WP3_94689.gpml', 'Hs_Transcriptional_cascade_regulating_adipogenesis_WP4211_95891.gpml', 'Hs_Transcription_factor_regulation_in_adipogenesis_WP3599_88581.gpml', 'Hs_Translation_Factors_WP107_89328.gpml', 'Hs_Triacylglyceride_Synthesis_WP325_71223.gpml', 'Hs_Tryptophan_metabolism_WP465_94086.gpml', 'Hs_Tumor_suppressor_activity_of_SMARCB1_WP4204_95846.gpml', 'Hs_Type_III_interferon_signaling_WP2113_86876.gpml', 'Hs_Type_II_diabetes_mellitus_WP1584_94959.gpml', 'Hs_Type_II_interferon_signaling_(IFNG)_WP619_71168.gpml', 'Hs_TYROBP_Causal_Network_WP3945_90843.gpml', 'Hs_Urea_cycle_and_metabolism_of_amino_groups_WP497_95281.gpml', 'Hs_Valproic_acid_pathway_WP3871_94406.gpml', 'Hs_VEGFA-VEGFR2_Signaling_Pathway_WP3888_90000.gpml', 'Hs_Vitamin_A_and_Carotenoid_Metabolism_WP716_83589.gpml', 'Hs_Vitamin_B12_Metabolism_WP1533_85340.gpml', 'Hs_Vitamin_D_Metabolism_WP1531_82221.gpml', 'Hs_Vitamin_D_Receptor_Pathway_WP2877_94793.gpml', 'Hs_White_fat_cell_differentiation_WP3946_90940.gpml', 'Hs_White_fat_cell_differentiation_WP4149_94399.gpml', 'Hs_Wnt-beta-catenin_Signaling_Pathway_in_Leukemia_WP3658_90078.gpml', 'Hs_Wnt_Signaling_in_Kidney_Disease_WP4150_94404.gpml', 'Hs_Wnt_Signaling_Pathway_and_Pluripotency_WP399_94890.gpml', 'Hs_Wnt_Signaling_Pathway_WP363_94887.gpml', 'Hs_Wnt_Signaling_Pathway_WP428_94896.gpml', 'Hs_Zinc_homeostasis_WP3529_86971.gpml', 'wikipathways-20180210-gpml-Homo_sapiens.zip']\n",
      "Already Downloaded ....\n"
     ]
    }
   ],
   "source": [
    "wiki = wikipathwaysData()\n",
    "wiki.getDatabaseFiles()"
   ]
  },
  {
   "cell_type": "code",
   "execution_count": 5,
   "metadata": {},
   "outputs": [
    {
     "name": "stdout",
     "output_type": "stream",
     "text": [
      "['Hs_4-hydroxytamoxifen,_Dexamethasone,_and_Retinoic_Acids_Regulation_of_p27_Expression_WP3879_94799.gpml', 'Hs_Acetylcholine_Synthesis_WP528_79855.gpml', 'Hs_ACE_Inhibitor_Pathway_WP554_92084.gpml', 'Hs_Adipogenesis_WP236_80209.gpml', 'Hs_Aflatoxin_B1_metabolism_WP699_93244.gpml', 'Hs_AGE-RAGE_pathway_WP2324_89798.gpml', 'Hs_Alanine_and_aspartate_metabolism_WP106_94196.gpml', 'Hs_Allograft_Rejection_WP2328_92211.gpml', 'Hs_Alpha_6_Beta_4_signaling_pathway_WP244_85199.gpml', 'Hs_Alzheimers_Disease_WP2059_87372.gpml', 'Hs_Amino_acid_conjugation_of_benzoic_acid_WP521_88588.gpml', 'Hs_Amino_acid_conjugation_WP715_94201.gpml', 'Hs_Amino_Acid_metabolism_WP3925_90737.gpml', 'Hs_AMP-activated_Protein_Kinase_(AMPK)_Signaling_WP1403_90259.gpml', 'Hs_Amplification_and_Expansion_of_Oncogenic_Pathways_as_Metastatic_Traits_WP3678_90110.gpml', 'Hs_Amyotrophic_lateral_sclerosis_(ALS)_WP2447_85186.gpml', 'Hs_Androgen_receptor_signaling_pathway_WP138_79958.gpml', 'Hs_Angiogenesis_WP1539_95042.gpml', 'Hs_Angiopoietin_Like_Protein_8_Regulatory_Pathway_WP3915_94801.gpml', 'Hs_ApoE_and_miR-146_in_inflammation_and_atherosclerosis_WP3926_90739.gpml', 'Hs_Apoptosis-related_network_due_to_altered_Notch3_in_ovarian_cancer_WP2864_79278.gpml', 'Hs_Apoptosis_Modulation_and_Signaling_WP1772_94912.gpml', 'Hs_Apoptosis_Modulation_by_HSP70_WP384_67054.gpml', 'Hs_Apoptosis_WP254_95107.gpml', 'Hs_Arachidonate_Epoxygenase_-_Epoxide_Hydrolase_WP678_94200.gpml', 'Hs_Arrhythmogenic_Right_Ventricular_Cardiomyopathy_WP2118_71265.gpml', 'Hs_Arylamine_metabolism_WP694_89536.gpml', 'Hs_Aryl_Hydrocarbon_Receptor_Pathway_WP2873_95229.gpml', 'Hs_Aryl_Hydrocarbon_Receptor_WP2586_91687.gpml', 'Hs_Association_Between_Physico-Chemical_Features_and_Toxicity_Associated_Pathways_WP3680_90113.gpml', 'Hs_ATM_Signaling_Network_in_Development_and_Disease_WP3878_89745.gpml', 'Hs_ATM_Signaling_Pathway_WP2516_90247.gpml', 'Hs_ATR_Signaling_WP3875_90121.gpml', 'Hs_BDNF-TrkB_Signaling_WP3676_94186.gpml', 'Hs_Benzene_metabolism_WP3891_94538.gpml', 'Hs_Benzo(a)pyrene_metabolism_WP696_94805.gpml', 'Hs_Biochemical_Pathways_Part_I_WP3604_94542.gpml', 'Hs_Biogenic_Amine_Synthesis_WP550_90171.gpml', 'Hs_Biosynthesis_and_regeneration_of_tetrahydrobiopterin_(BH4)_and_catabolism_of_phenylalanine,_including_diseases_WP4156_94865.gpml', 'Hs_Bladder_Cancer_WP2828_89143.gpml', 'Hs_Blood_Clotting_Cascade_WP272_95523.gpml', 'Hs_BMP2-WNT4-FOXO1_Pathway_in_Human_Primary_Endometrial_Stromal_Cell_Differentiation_WP3876_94744.gpml', 'Hs_BMP_Signaling_Pathway_in_Eyelid_Development_WP3927_90735.gpml', 'Hs_Bone_Morphogenic_Protein_(BMP)_Signalling_and_Regulation_WP1425_86082.gpml', 'Hs_Brain-Derived_Neurotrophic_Factor_(BDNF)_signaling_pathway_WP2380_94178.gpml', 'Hs_Butyrate-induced_histone_acetylation_WP2366_89148.gpml', 'Hs_B_Cell_Receptor_Signaling_Pathway_WP23_92558.gpml', 'Hs_Caffeine_and_Theobromine_metabolism_WP3633_85154.gpml', 'Hs_Calcium_Regulation_in_the_Cardiac_Cell_WP536_95108.gpml', 'Hs_Caloric_restriction_and_aging_WP4191_95530.gpml', 'Hs_Cannabinoid_receptor_signaling_WP3869_94926.gpml', 'Hs_Canonical_and_Non-canonical_Notch_signaling_WP3845_90027.gpml', 'Hs_Canonical_and_Non-Canonical_TGF-B_signaling_WP3874_89272.gpml', 'Hs_Cardiac_Hypertrophic_Response_WP2795_85087.gpml', 'Hs_Cardiac_Progenitor_Differentiation_WP2406_89157.gpml', 'Hs_Catalytic_cycle_of_mammalian_Flavin-containing_MonoOxygenases_(FMOs)_WP688_94198.gpml', 'Hs_Cell-type_Dependent_Selectivity_of_CCK2R_Signaling_WP3679_94188.gpml', 'Hs_Cell_Cycle_WP179_93002.gpml', 'Hs_Cell_Differentiation_-_Index_WP2029_95144.gpml', 'Hs_Chemokine_signaling_pathway_WP3929_90949.gpml', 'Hs_Cholesterol_Biosynthesis_WP197_91292.gpml', 'Hs_Circadian_rythm_related_genes_WP3594_87161.gpml', 'Hs_Codeine_and_Morphine_Metabolism_WP1604_95222.gpml', 'Hs_Colchicine_Metabolic_Pathway_WP2536_92288.gpml', 'Hs_Common_Pathways_Underlying_Drug_Addiction_WP2636_95595.gpml', 'Hs_Complement_Activation_WP545_89636.gpml', 'Hs_Complement_and_Coagulation_Cascades_WP558_95109.gpml', 'Hs_Composition_of_Lipid_Particles_WP3601_89202.gpml', 'Hs_Constitutive_Androstane_Receptor_Pathway_WP2875_94791.gpml', 'Hs_Copper_homeostasis_WP3286_93705.gpml', 'Hs_Cori_Cycle_WP1946_94218.gpml', 'Hs_Corticotropin-releasing_hormone_signaling_pathway_WP2355_94191.gpml', 'Hs_Cytokines_and_Inflammatory_Response_WP530_94907.gpml', 'Hs_Cytoplasmic_Ribosomal_Proteins_WP477_67139.gpml', 'Hs_DDX1_as_a_regulatory_component_of_the_Drosha_microprocessor_WP2942_94276.gpml', 'Hs_Degradation_pathway_of_sphingolipids,_including_diseases_WP4153_94607.gpml', 'Hs_Deregulation_of_Rab_and_Rab_Effector_Genes_in_Bladder_Cancer_WP2291_85341.gpml', 'Hs_Development_and_heterogeneity_of_the_ILC_family_WP3893_89702.gpml', 'Hs_Development_of_pulmonary_dendritic_cells_and_macrophage_subsets_WP3892_89703.gpml', 'Hs_Diclofenac_Metabolic_Pathway_WP2491_92287.gpml', 'Hs_Differentiation_of_white_and_brown_adipocyte_WP2895_87889.gpml', 'Hs_Differentiation_Pathway_WP2848_89940.gpml', 'Hs_DNA_Damage_Response_(only_ATM_dependent)_WP710_95580.gpml', 'Hs_DNA_Damage_Response_WP707_94731.gpml', 'Hs_DNA_IR-damage_and_cellular_response_via_ATR_WP4016_94684.gpml', 'Hs_DNA_IR-Double_Strand_Breaks_(DSBs)_and_cellular_response_via_ATM_WP3959_95280.gpml', 'Hs_DNA_Replication_WP466_94886.gpml', 'Hs_Dopaminergic_Neurogenesis_WP2855_87239.gpml', 'Hs_Dopamine_metabolism_WP2436_94675.gpml', 'Hs_Drug_Induction_of_Bile_Acid_Pathway_WP2289_88593.gpml', 'Hs_Dual_hijack_model_of_Vif_in_HIV_infection_WP3300_87896.gpml', 'Hs_EBV_LMP1_signaling_WP262_86888.gpml', 'Hs_Ectoderm_Differentiation_WP2858_94911.gpml', 'Hs_EDA_Signalling_in_Hair_Follicle_Development_WP3930_90751.gpml', 'Hs_Effects_of_Nitric_Oxide_WP1995_88595.gpml', 'Hs_EGF-EGFR_Signaling_Pathway_WP437_79266.gpml', 'Hs_Eicosanoid_Synthesis_WP167_89514.gpml', 'Hs_eIF5A_regulation_in_response_to_inhibition_of_the_nuclear_export_system_WP3302_87966.gpml', 'Hs_Electron_Transport_Chain_WP111_95118.gpml', 'Hs_Endochondral_Ossification_WP474_95499.gpml', 'Hs_Endoderm_Differentiation_WP2853_88152.gpml', 'Hs_Endometrial_cancer_WP4155_95371.gpml', 'Hs_Endothelin_Pathways_WP2197_94181.gpml', 'Hs_Energy_Metabolism_WP1541_94314.gpml', 'Hs_EPO_Receptor_Signaling_WP581_86897.gpml', 'Hs_ErbB_Signaling_Pathway_WP673_94739.gpml', \"Hs_ERK_Pathway_in_Huntington's_Disease_WP3853_89748.gpml\", 'Hs_ESC_Pluripotency_Pathways_WP3931_94310.gpml', 'Hs_Estrogen_metabolism_WP697_94909.gpml', 'Hs_Estrogen_Receptor_Pathway_WP2881_94937.gpml', 'Hs_Estrogen_signaling_pathway_WP712_78491.gpml', 'Hs_Ethanol_effects_on_histone_modifications_WP3996_93015.gpml', 'Hs_Eukaryotic_Transcription_Initiation_WP405_94824.gpml', 'Hs_Evolocumab_Mechanism_WP3408_88049.gpml', 'Hs_EV_release_from_cardiac_cells_and_their_functional_effects_WP3297_88048.gpml', 'Hs_Exercise-induced_Circadian_Regulation_WP410_90752.gpml', 'Hs_Extracellular_vesicle-mediated_signaling_in_recipient_cells_WP2870_88052.gpml', 'Hs_Factors_and_pathways_affecting_insulin-like_growth_factor_(IGF1)-Akt_signaling_WP3850_88165.gpml', 'Hs_Farnesoid_X_Receptor_Pathway_WP2879_94789.gpml', 'Hs_Fas_Ligand_(FasL)_pathway_and_Stress_induction_of_Heat_Shock_Proteins_(HSP)_regulation_WP314_94814.gpml', 'Hs_Fatty_Acid_Beta_Oxidation_WP143_94768.gpml', 'Hs_Fatty_Acid_Biosynthesis_WP357_94197.gpml', 'Hs_Fatty_Acid_Omega_Oxidation_WP206_94194.gpml', 'Hs_Felbamate_Metabolism_WP2816_92386.gpml', 'Hs_Fibrin_Complement_Receptor_3_Signaling_Pathway_WP4136_95528.gpml', 'Hs_Fluoropyrimidine_Activity_WP1601_95004.gpml', 'Hs_Focal_Adhesion-PI3K-Akt-mTOR-signaling_pathway_WP3932_94216.gpml', 'Hs_Focal_Adhesion_WP306_95135.gpml', 'Hs_Folate-Alcohol_and_Cancer_Pathway_WP1589_92113.gpml', 'Hs_Folate_Metabolism_WP176_95130.gpml', 'Hs_Follicle_Stimulating_Hormone_(FSH)_signaling_pathway_WP2035_86080.gpml', 'Hs_FTO_Obesity_Variant_Mechanism_WP3407_89858.gpml', 'Hs_G13_Signaling_Pathway_WP524_95116.gpml', 'Hs_G1_to_S_cell_cycle_control_WP45_95145.gpml', 'Hs_GABA_receptor_Signaling_WP4159_94955.gpml', 'Hs_Ganglio_Sphingolipid_Metabolism_WP1423_94289.gpml', 'Hs_Gastric_acid_production_WP2596_87520.gpml', 'Hs_Gastric_Cancer_Network_1_WP2361_86831.gpml', 'Hs_Gastric_Cancer_Network_2_WP2363_87523.gpml', 'Hs_Gene_regulatory_network_modelling_somitogenesis_WP2854_87527.gpml', 'Hs_GHB_metabolic_pathway_WP4157_94898.gpml', 'Hs_Glial_Cell_Differentiation_WP2276_94751.gpml', 'Hs_Globo_Sphingolipid_Metabolism_WP1424_94290.gpml', 'Hs_Glucocorticoid_and_Mineralcorticoid_Metabolism_WP237_95658.gpml', 'Hs_Glucose_Homeostasis_WP661_88591.gpml', 'Hs_Glucuronidation_WP698_94183.gpml', 'Hs_Glutathione_metabolism_WP100_93097.gpml', 'Hs_Glycerophospholipid_Biosynthetic_Pathway_WP2533_95594.gpml', 'Hs_Glycogen_Metabolism_WP500_94085.gpml', 'Hs_Glycolysis_and_Gluconeogenesis_WP534_94762.gpml', 'Hs_GPCRs,_Class_A_Rhodopsin-like_WP455_81793.gpml', 'Hs_GPCRs,_Class_B_Secretin-like_WP334_79716.gpml', 'Hs_GPCRs,_Class_C_Metabotropic_glutamate,_pheromone_WP501_79715.gpml', 'Hs_GPCRs,_Other_WP117_82985.gpml', 'Hs_GPR40_Pathway_WP3958_94758.gpml', 'Hs_G_Protein_Signaling_Pathways_WP35_88601.gpml', 'Hs_H19_action_Rb-E2F1_signaling_and_CDK-β-catenin_activity_WP3969_94706.gpml', 'Hs_Heart_Development_WP1591_94736.gpml', 'Hs_Hedgehog_Signaling_Pathway_WP47_78542.gpml', 'Hs_Hematopoietic_Stem_Cell_Gene_Regulation_by_GABP_alpha-beta_Complex_WP3657_89276.gpml', 'Hs_Heme_Biosynthesis_WP561_93014.gpml', 'Hs_Hepatitis_C_and_Hepatocellular_Carcinoma_WP3646_88640.gpml', 'Hs_Heroin_metabolism_WP2645_95179.gpml', 'Hs_Hfe_effect_on_hepcidin_production_WP3924_90736.gpml', 'Hs_HIF1A_and_PPARG_regulation_of_glycolysis_WP2456_95512.gpml', 'Hs_Histone_Modifications_WP2369_87373.gpml', 'Hs_Homologous_recombination_WP186_68935.gpml', 'Hs_Hormonal_control_of_Pubertal_Growth_Spurt_WP4194_95576.gpml', 'Hs_Human_metabolism_overview_WP3602_94732.gpml', 'Hs_Human_Thyroid_Stimulating_Hormone_(TSH)_signaling_pathway_WP2032_89823.gpml', 'Hs_Hypertrophy_Model_WP516_94803.gpml', 'Hs_Hypothesized_Pathways_in_Pathogenesis_of_Cardiovascular_Disease_WP3668_90185.gpml', 'Hs_Hypothetical_Craniofacial_Development_Pathway_WP3655_88473.gpml', 'Hs_Hypoxia-mediated_EMT_and_Stemness_WP2943_88661.gpml', 'Hs_ID_signaling_pathway_WP53_67360.gpml', 'Hs_IL-1_signaling_pathway_WP195_89932.gpml', 'Hs_IL-2_Signaling_Pathway_WP49_95132.gpml', 'Hs_IL-3_Signaling_Pathway_WP286_78583.gpml', 'Hs_IL-4_Signaling_Pathway_WP395_89828.gpml', 'Hs_IL-5_Signaling_Pathway_WP127_78498.gpml', 'Hs_IL-6_signaling_pathway_WP364_89832.gpml', 'Hs_IL-7_Signaling_Pathway_WP205_89854.gpml', 'Hs_IL-9_Signaling_Pathway_WP22_79264.gpml', 'Hs_IL17_signaling_pathway_WP2112_94745.gpml', 'Hs_IL1_and_megakaryocytes_in_obesity_WP2865_88662.gpml', 'Hs_Imatinib_and_Chronic_Myeloid_Leukemia_WP3640_89384.gpml', 'Hs_Inflammatory_Response_Pathway_WP453_95436.gpml', 'Hs_Influenza_A_virus_infection_WP1438_94906.gpml', 'Hs_Initiation_of_transcription_and_translation_elongation_at_the_HIV-1_LTR_WP3414_87386.gpml', 'Hs_Insulin_Signaling_WP481_94171.gpml', 'Hs_Insulin_signalling_in_human_adipocytes_(diabetic_condition)_WP3635_86059.gpml', 'Hs_Insulin_signalling_in_human_adipocytes_(normal_condition)_WP3634_86060.gpml', 'Hs_Integrated_Breast_Cancer_Pathway_WP1984_95143.gpml', 'Hs_Integrated_Cancer_Pathway_WP1971_82939.gpml', 'Hs_Integrin-mediated_Cell_Adhesion_WP185_88160.gpml', 'Hs_Interactome_of_polycomb_repressive_complex_2_(PRC2)_WP2916_88672.gpml', 'Hs_Interferon_type_I_signaling_pathways_WP585_94686.gpml', 'Hs_Interleukin-11_Signaling_Pathway_WP2332_79525.gpml', 'Hs_Interleukin-1_Induced_Activation_of_NF-kappa-B_WP3656_89274.gpml', 'Hs_Irinotecan_Pathway_WP229_93199.gpml', 'Hs_Iron_metabolism_in_placenta_WP2007_69751.gpml', 'Hs_Kennedy_pathway_from_Sphingolipids_WP3933_95585.gpml', 'Hs_Kit_receptor_signaling_pathway_WP304_78799.gpml', 'Hs_Leptin_and_adiponectin_WP3934_90768.gpml', 'Hs_Leptin_Insulin_Overlap_WP3935_90771.gpml', 'Hs_Leptin_signaling_pathway_WP2034_89856.gpml', 'Hs_Lidocaine_metabolism_WP2646_94915.gpml', 'Hs_Lipid_Metabolism_Pathway_WP3965_95533.gpml', 'Hs_Liver_X_Receptor_Pathway_WP2874_94790.gpml', 'Hs_LncRNA-mediated_mechanisms_of_therapeutic_resistance_WP3672_87395.gpml', 'Hs_Lung_fibrosis_WP3624_95209.gpml', 'Hs_Macrophage_markers_WP4146_94392.gpml', 'Hs_MAPK_and_NFkB_Signalling_Pathways_Inhibited_by_Yersinia_YopJ_WP3849_89943.gpml', 'Hs_MAPK_Cascade_WP422_95146.gpml', 'Hs_MAPK_Signaling_Pathway_WP382_95114.gpml', 'Hs_Matrix_Metalloproteinases_WP129_72054.gpml', 'Hs_MECP2_and_Associated_Rett_Syndrome_WP3584_91190.gpml', 'Hs_Melatonin_metabolism_and_effects_WP3298_91618.gpml', 'Hs_Mesodermal_Commitment_Pathway_WP2857_87780.gpml', 'Hs_Metabolism_of_Spingolipids_in_ER_and_Golgi_apparatus_WP4142_95051.gpml', 'Hs_Metabolism_of_Tetrahydrocannabinol_(THC)_WP4174_95899.gpml', 'Hs_Metapathway_biotransformation_WP702_73516.gpml', 'Hs_Metastatic_brain_tumor_WP2249_89836.gpml', 'Hs_Methionine_De_Novo_and_Salvage_Pathway_WP3580_94518.gpml', 'Hs_Methylation_Pathways_WP704_88909.gpml', 'Hs_Mevalonate_arm_of_cholesterol_biosynthesis_pathway_with_inhibitors_WP4189_95821.gpml', 'Hs_Mevalonate_arm_of_cholesterol_biosynthesis_pathway_WP4190_95421.gpml', 'Hs_MFAP5-mediated_ovarian_cancer_cell_motility_and_invasiveness_WP3301_94277.gpml', 'Hs_Microglia_Pathogen_Phagocytosis_Pathway_WP3937_94208.gpml', 'Hs_MicroRNAs_in_cardiomyocyte_hypertrophy_WP1544_89794.gpml', 'Hs_mir-124_predicted_interactions_with_cell_cycle_and_differentiation_WP3595_89883.gpml', 'Hs_miR-148a-miR-31-FIH1-HIF1α-Notch_signaling_in_glioblastoma_WP3593_94282.gpml', 'Hs_miR-222_in_Exercise-Induced_Cardiac_Growth_WP3938_90779.gpml', 'Hs_miR-509-3p_alteration_of_YAP1-ECM_axis_WP3967_94301.gpml', 'Hs_miR-517_relationship_with_ARCN1_and_USP1_WP3596_89884.gpml', 'Hs_mir34a_and_TGIF2_in_osteoclastogenesis_WP2866_87842.gpml', 'Hs_miRNAs_involved_in_DNA_damage_response_WP1545_94759.gpml', 'Hs_miRNA_Biogenesis_WP2338_78504.gpml', 'Hs_miRNA_Regulation_of_DNA_Damage_Response_WP1530_94738.gpml', 'Hs_miRNA_regulation_of_p53_pathway_in_prostate_cancer_WP3982_94298.gpml', 'Hs_miRNA_targets_in_ECM_and_membrane_receptors_WP2911_87847.gpml', 'Hs_miRs_in_Muscle_Cell_Differentiation_WP2012_82900.gpml', 'Hs_Mismatch_repair_WP531_69021.gpml', 'Hs_Mitochondrial_Gene_Expression_WP391_71373.gpml', 'Hs_Mitochondrial_LC-Fatty_Acid_Beta-Oxidation_WP368_94199.gpml', 'Hs_Monoamine_GPCRs_WP58_93101.gpml', 'Hs_Monoamine_Transport_WP727_94734.gpml', 'Hs_mRNA_Processing_WP411_95128.gpml', 'Hs_Myometrial_Relaxation_and_Contraction_Pathways_WP289_89548.gpml', 'Hs_NAD+_biosynthetic_pathways_WP3645_90261.gpml', 'Hs_NAD+_metabolism_WP3644_94904.gpml', 'Hs_NAD_Biosynthesis_II_(from_tryptophan)_WP2485_70025.gpml', 'Hs_NAD_metabolism,_sirtuins_and_aging_WP3630_94184.gpml', 'Hs_Nanomaterial_induced_apoptosis_WP2507_92314.gpml', 'Hs_Nanoparticle-mediated_activation_of_receptor_signaling_WP2643_95473.gpml', 'Hs_Nanoparticle_triggered_autophagic_cell_death_WP2509_92315.gpml', 'Hs_Nanoparticle_triggered_regulated_necrosis_WP2513_92316.gpml', 'Hs_Neural_Crest_Differentiation_WP2064_79263.gpml', 'Hs_Nicotine_Activity_on_Chromaffin_Cells_WP1603_78574.gpml', 'Hs_Nicotine_Activity_on_Dopaminergic_Neurons_WP1602_78486.gpml', 'Hs_Nicotine_Metabolism_WP1600_92822.gpml', 'Hs_NLR_Proteins_WP288_80026.gpml', 'Hs_NO-cGMP-PKG_mediated_Neuroprotection_WP4008_92677.gpml', 'Hs_Non-homologous_end_joining_WP438_80022.gpml', 'Hs_NOTCH1_regulation_of_human_endothelial_cell_calcification_WP3413_87953.gpml', 'Hs_Notch_Signaling_Pathway_WP268_94808.gpml', 'Hs_Notch_Signaling_Pathway_WP61_78592.gpml', 'Hs_NRF2_pathway_WP2884_94787.gpml', 'Hs_Nuclear_Receptors_in_Lipid_Metabolism_and_Toxicity_WP299_89331.gpml', 'Hs_Nuclear_Receptors_WP170_71083.gpml', 'Hs_Nucleotide-binding_Oligomerization_Domain_(NOD)_pathway_WP1433_86035.gpml', 'Hs_Nucleotide_GPCRs_WP80_68938.gpml', 'Hs_Nucleotide_Metabolism_WP404_68960.gpml', 'Hs_Oncostatin_M_Signaling_Pathway_WP2374_92557.gpml', 'Hs_One_carbon_donor_WP2190_88006.gpml', 'Hs_One_carbon_metabolism_and_related_pathways_WP3940_94312.gpml', 'Hs_One_Carbon_Metabolism_WP241_89671.gpml', 'Hs_Osteoblast_Signaling_WP322_90527.gpml', 'Hs_Osteoclast_Signaling_WP12_88602.gpml', 'Hs_Osteopontin_Signaling_WP1434_94913.gpml', 'Hs_Ovarian_Infertility_Genes_WP34_88253.gpml', 'Hs_Overview_of_nanoparticle_effects_WP3287_89371.gpml', 'Hs_Oxidation_by_Cytochrome_P450_WP43_94176.gpml', 'Hs_Oxidative_Damage_WP3941_94696.gpml', 'Hs_Oxidative_phosphorylation_WP623_86899.gpml', 'Hs_Oxidative_Stress_WP408_94131.gpml', 'Hs_Oxytocin_signaling_WP2889_88286.gpml', 'Hs_p38_MAPK_Signaling_Pathway_WP400_95117.gpml', 'Hs_Parkin-Ubiquitin_Proteasomal_System_pathway_WP2359_72121.gpml', 'Hs_Parkinsons_Disease_Pathway_WP2371_87374.gpml', 'Hs_Pathogenic_Escherichia_coli_infection_WP2272_95730.gpml', 'Hs_Pathways_Affected_in_Adenoid_Cystic_Carcinoma_WP3651_89271.gpml', 'Hs_PDGF_Pathway_WP2526_82681.gpml', 'Hs_Pentose_Phosphate_Pathway_WP134_94935.gpml', 'Hs_Peptide_GPCRs_WP24_95856.gpml', 'Hs_Peroxisomal_beta-oxidation_of_tetracosanoyl-CoA_WP1941_94179.gpml', 'Hs_Phase_I_biotransformations,_non_P450_WP136_95126.gpml', 'Hs_Phosphatidylcholine_catabolism_WP4195_95593.gpml', 'Hs_Photodynamic_therapy-induced_HIF-1_survival_signaling_WP3614_89311.gpml', 'Hs_Photodynamic_therapy-induced_NF-kB_survival_signaling_WP3617_88316.gpml', 'Hs_Photodynamic_therapy-induced_NFE2L2_(NRF2)_survival_signaling_WP3612_95149.gpml', 'Hs_Photodynamic_therapy-induced_unfolded_protein_response_WP3613_89330.gpml', 'Hs_Physiological_and_Pathological_Hypertrophy_of_the_Heart_WP1528_94723.gpml', 'Hs_PI3K-AKT-mTOR_-_VitD3_Signalling_WP4141_95854.gpml', 'Hs_PI3K-AKT-mTOR_signaling_pathway_and_therapeutic_opportunities_WP3844_89952.gpml', 'Hs_PI3K-Akt_Signaling_Pathway_WP4172_95701.gpml', 'Hs_Polyol_Pathway_WP690_88335.gpml', 'Hs_PPAR_Alpha_Pathway_WP2878_94794.gpml', 'Hs_PPAR_signaling_pathway_WP3942_94205.gpml', 'Hs_Prader-Willi_and_Angelman_Syndrome_WP3998_95733.gpml', 'Hs_Pregnane_X_Receptor_pathway_WP2876_94905.gpml', 'Hs_Preimplantation_Embryo_WP3527_94671.gpml', 'Hs_Primary_Focal_Segmental_Glomerulosclerosis_FSGS_WP2572_90019.gpml', 'Hs_Prion_disease_pathway_WP3995_94740.gpml', 'Hs_Prolactin_Signaling_Pathway_WP2037_95112.gpml', 'Hs_Proprotein_convertase_subtilisin-kexin_type_9_(PCSK9)_mediated_LDL_receptor_degradation_WP2846_89409.gpml', 'Hs_Prostaglandin_Synthesis_and_Regulation_WP98_95959.gpml', 'Hs_Proteasome_Degradation_WP183_95110.gpml', 'Hs_PTF1A_related_regulatory_pathway_WP4147_94394.gpml', 'Hs_Pyrimidine_metabolism_WP4022_95459.gpml', 'Hs_Rac1-Pak1-p38-MMP-2_pathway_WP3303_94281.gpml', 'Hs_RalA_downstream_regulated_genes_WP2290_79988.gpml', 'Hs_RANKL-RANK_(Receptor_activator_of_NFKB_(ligand))_Signaling_Pathway_WP2018_90016.gpml', 'Hs_Regulation_of_Actin_Cytoskeleton_WP51_94816.gpml', 'Hs_Regulation_of_Apoptosis_by_Parathyroid_Hormone-related_Protein_WP3872_89397.gpml', 'Hs_Regulation_of_Microtubule_Cytoskeleton_WP2038_94910.gpml', 'Hs_Regulation_of_Wnt-B-catenin_Signaling_by_Small_Molecule_Compounds_WP3664_94746.gpml', 'Hs_Retinoblastoma_(RB)_in_Cancer_WP2446_87639.gpml', 'Hs_RIG-I-like_Receptor_Signaling_WP3865_88186.gpml', 'Hs_RNA_interference_WP2805_81654.gpml', 'Hs_Robo4_and_VEGF_Signaling_Pathways_Crosstalk_WP3943_90823.gpml', 'Hs_Role_of_Osx_and_miRNAs_in_tooth_development_WP3971_91525.gpml', 'Hs_SCFA_and_skeletal_muscle_substrate_metabolism_WP4030_93221.gpml', 'Hs_Secretion_of_Hydrochloric_Acid_in_Parietal_Cells_WP2597_87647.gpml', 'Hs_Selenium_Metabolism_and_Selenoproteins_WP28_71888.gpml', 'Hs_Selenium_Micronutrient_Network_WP15_94185.gpml', 'Hs_Senescence_and_Autophagy_in_Cancer_WP615_81193.gpml', 'Hs_Serotonin_and_anxiety-related_events_WP3944_90836.gpml', 'Hs_Serotonin_and_anxiety_WP3947_91925.gpml', 'Hs_Serotonin_Receptor_2_and_ELK-SRF-GATA4_signaling_WP732_80010.gpml', 'Hs_Serotonin_Receptor_2_and_STAT3_Signaling_WP733_74441.gpml', 'Hs_Serotonin_Receptor_4-6-7_and_NR3C_Signaling_WP734_74438.gpml', 'Hs_Serotonin_Transporter_Activity_WP1455_89635.gpml', 'Hs_Signaling_of_Hepatocyte_Growth_Factor_Receptor_WP313_79946.gpml', 'Hs_Signaling_Pathways_in_Glioblastoma_WP2261_89520.gpml', 'Hs_Signal_Transduction_of_S1P_Receptor_WP26_79950.gpml', 'Hs_Simplified_Depiction_of_MYD88_Distinct_Input-Output_Pathway_WP3877_89291.gpml', 'Hs_Simplified_Interaction_Map_Between_LOXL4_and_Oxidative_Stress_Pathway_WP3670_90107.gpml', 'Hs_Small_Ligand_GPCRs_WP247_74422.gpml', 'Hs_Somatroph_axis_(GH)_and_its_relationship_to_dietary_restriction_and_aging_WP4186_95479.gpml', 'Hs_Sphingolipid_Metabolism_WP1422_95422.gpml', 'Hs_Spinal_Cord_Injury_WP2431_87678.gpml', 'Hs_Splicing_factor_NOVA_regulated_synaptic_proteins_WP4148_94396.gpml', 'Hs_SREBF_and_miR33_in_cholesterol_and_lipid_homeostasis_WP2011_89947.gpml', 'Hs_SRF_and_miRs_in_Smooth_Muscle_Differentiation_and_Proliferation_WP1991_89637.gpml', 'Hs_Statin_Pathway_WP430_95223.gpml', 'Hs_Steroid_Biosynthesis_WP496_69016.gpml', 'Hs_Sterol_Regulatory_Element-Binding_Proteins_(SREBP)_signalling_WP1982_90425.gpml', 'Hs_Striated_Muscle_Contraction_WP383_94665.gpml', 'Hs_Structural_Pathway_of_Interleukin_1_(IL-1)_WP2637_87707.gpml', 'Hs_Sudden_Infant_Death_Syndrome_(SIDS)_Susceptibility_Pathways_WP706_92921.gpml', 'Hs_Sulfation_Biotransformation_Reaction_WP692_94192.gpml', 'Hs_Sulindac_Metabolic_Pathway_WP2542_92293.gpml', 'Hs_Synaptic_Vesicle_Pathway_WP2267_85090.gpml', 'Hs_Synthesis_and_Degradation_of_Ketone_Bodies_WP311_68921.gpml', 'Hs_T-Cell_antigen_Receptor_(TCR)_pathway_during_Staphylococcus_aureus_infection_WP3863_90702.gpml', 'Hs_T-Cell_antigen_Receptor_(TCR)_Signaling_Pathway_WP69_89937.gpml', 'Hs_T-Cell_Receptor_and_Co-stimulatory_Signaling_WP2583_86147.gpml', 'Hs_Tamoxifen_metabolism_WP691_92400.gpml', 'Hs_TarBasePathway_WP1992_78296.gpml', 'Hs_Target_Of_Rapamycin_(TOR)_Signaling_WP1471_94755.gpml', 'Hs_TCA_Cycle_and_Deficiency_of_Pyruvate_Dehydrogenase_complex_(PDHc)_WP2453_94220.gpml', 'Hs_TCA_Cycle_Nutrient_Utilization_and_Invasiveness_of_Ovarian_Cancer_WP2868_90260.gpml', 'Hs_TCA_Cycle_WP78_90661.gpml', 'Hs_TFs_Regulate_miRNAs_related_to_cardiac_hypertrophy_WP1559_84698.gpml', 'Hs_TGF-beta_Receptor_Signaling_WP560_94936.gpml', 'Hs_TGF-beta_Signaling_Pathway_WP366_90028.gpml', 'Hs_TGF-B_Signaling_in_Thyroid_Cells_for_Epithelial-Mesenchymal_Transition_WP3859_90120.gpml', 'Hs_Tgif_disruption_of_Shh_signaling_WP3674_88772.gpml', 'Hs_The_human_immune_response_to_tuberculosis_WP4197_95608.gpml', 'Hs_Thyroxine_(Thyroid_Hormone)_Production_WP1981_85189.gpml', 'Hs_TLR4_Signaling_and_Tolerance_WP3851_90114.gpml', 'Hs_TNF_alpha_Signaling_Pathway_WP231_89895.gpml', 'Hs_TNF_related_weak_inducer_of_apoptosis_(TWEAK)_Signaling_Pathway_WP2036_89910.gpml', 'Hs_Toll-like_Receptor_Signaling_Pathway_WP75_94908.gpml', 'Hs_Toll-like_Receptor_Signaling_WP3858_89945.gpml', 'Hs_TP53_Network_WP1742_95548.gpml', 'Hs_Trans-sulfuration_and_one_carbon_metabolism_WP2525_87802.gpml', 'Hs_Trans-sulfuration_pathway_WP2333_72015.gpml', 'Hs_Transcriptional_activation_by_NRF2_WP3_94689.gpml', 'Hs_Transcriptional_cascade_regulating_adipogenesis_WP4211_95891.gpml', 'Hs_Transcription_factor_regulation_in_adipogenesis_WP3599_88581.gpml', 'Hs_Translation_Factors_WP107_89328.gpml', 'Hs_Triacylglyceride_Synthesis_WP325_71223.gpml', 'Hs_Tryptophan_metabolism_WP465_94086.gpml', 'Hs_Tumor_suppressor_activity_of_SMARCB1_WP4204_95846.gpml', 'Hs_Type_III_interferon_signaling_WP2113_86876.gpml', 'Hs_Type_II_diabetes_mellitus_WP1584_94959.gpml', 'Hs_Type_II_interferon_signaling_(IFNG)_WP619_71168.gpml', 'Hs_TYROBP_Causal_Network_WP3945_90843.gpml', 'Hs_Urea_cycle_and_metabolism_of_amino_groups_WP497_95281.gpml', 'Hs_Valproic_acid_pathway_WP3871_94406.gpml', 'Hs_VEGFA-VEGFR2_Signaling_Pathway_WP3888_90000.gpml', 'Hs_Vitamin_A_and_Carotenoid_Metabolism_WP716_83589.gpml', 'Hs_Vitamin_B12_Metabolism_WP1533_85340.gpml', 'Hs_Vitamin_D_Metabolism_WP1531_82221.gpml', 'Hs_Vitamin_D_Receptor_Pathway_WP2877_94793.gpml', 'Hs_White_fat_cell_differentiation_WP3946_90940.gpml', 'Hs_White_fat_cell_differentiation_WP4149_94399.gpml', 'Hs_Wnt-beta-catenin_Signaling_Pathway_in_Leukemia_WP3658_90078.gpml', 'Hs_Wnt_Signaling_in_Kidney_Disease_WP4150_94404.gpml', 'Hs_Wnt_Signaling_Pathway_and_Pluripotency_WP399_94890.gpml', 'Hs_Wnt_Signaling_Pathway_WP363_94887.gpml', 'Hs_Wnt_Signaling_Pathway_WP428_94896.gpml', 'Hs_Zinc_homeostasis_WP3529_86971.gpml', 'wikipathways-20180210-gpml-Homo_sapiens.zip']\n",
      "Already Downloaded ....\n",
      "Call wikipathways getEverything......\n",
      "done ... for input files name.\n"
     ]
    }
   ],
   "source": [
    "wiki.getEverything()"
   ]
  },
  {
   "cell_type": "code",
   "execution_count": 6,
   "metadata": {},
   "outputs": [],
   "source": [
    "import pandas as pd"
   ]
  },
  {
   "cell_type": "code",
   "execution_count": 7,
   "metadata": {},
   "outputs": [],
   "source": [
    "df = pd.DataFrame(wiki.metaboliteIDDictionary)"
   ]
  },
  {
   "cell_type": "code",
   "execution_count": 8,
   "metadata": {},
   "outputs": [
    {
     "data": {
      "text/html": [
       "<div>\n",
       "<style scoped>\n",
       "    .dataframe tbody tr th:only-of-type {\n",
       "        vertical-align: middle;\n",
       "    }\n",
       "\n",
       "    .dataframe tbody tr th {\n",
       "        vertical-align: top;\n",
       "    }\n",
       "\n",
       "    .dataframe thead th {\n",
       "        text-align: right;\n",
       "    }\n",
       "</style>\n",
       "<table border=\"1\" class=\"dataframe\">\n",
       "  <thead>\n",
       "    <tr style=\"text-align: right;\">\n",
       "      <th></th>\n",
       "      <th>1022-31-7</th>\n",
       "      <th>103192-48-9</th>\n",
       "      <th>104404-17-3</th>\n",
       "      <th>104987-11-3</th>\n",
       "      <th>1053172-87-4</th>\n",
       "      <th>107-43-7</th>\n",
       "      <th>107-97-1</th>\n",
       "      <th>108341-80-6</th>\n",
       "      <th>110-60-1</th>\n",
       "      <th>111-02-4</th>\n",
       "      <th>...</th>\n",
       "      <th>pubchem:784</th>\n",
       "      <th>pubchem:84029</th>\n",
       "      <th>pubchem:8642</th>\n",
       "      <th>pubchem:892</th>\n",
       "      <th>pubchem:91475</th>\n",
       "      <th>pubchem:91493</th>\n",
       "      <th>pubchem:93093</th>\n",
       "      <th>pubchem:9700</th>\n",
       "      <th>pubchem:9963963</th>\n",
       "      <th>pubchem:9971251</th>\n",
       "    </tr>\n",
       "  </thead>\n",
       "  <tbody>\n",
       "    <tr>\n",
       "      <th>CAS</th>\n",
       "      <td>1022-31-7</td>\n",
       "      <td>103192-48-9</td>\n",
       "      <td>104404-17-3</td>\n",
       "      <td>104987-11-3</td>\n",
       "      <td>1053172-87-4</td>\n",
       "      <td>107-43-7</td>\n",
       "      <td>107-97-1</td>\n",
       "      <td>108341-80-6</td>\n",
       "      <td>110-60-1</td>\n",
       "      <td>111-02-4</td>\n",
       "      <td>...</td>\n",
       "      <td>NA</td>\n",
       "      <td>NA</td>\n",
       "      <td>NA</td>\n",
       "      <td>NA</td>\n",
       "      <td>NA</td>\n",
       "      <td>NA</td>\n",
       "      <td>NA</td>\n",
       "      <td>NA</td>\n",
       "      <td>NA</td>\n",
       "      <td>NA</td>\n",
       "    </tr>\n",
       "    <tr>\n",
       "      <th>LIPIDMAPS</th>\n",
       "      <td>NA</td>\n",
       "      <td>NA</td>\n",
       "      <td>NA</td>\n",
       "      <td>NA</td>\n",
       "      <td>NA</td>\n",
       "      <td>NA</td>\n",
       "      <td>NA</td>\n",
       "      <td>NA</td>\n",
       "      <td>NA</td>\n",
       "      <td>NA</td>\n",
       "      <td>...</td>\n",
       "      <td>NA</td>\n",
       "      <td>NA</td>\n",
       "      <td>NA</td>\n",
       "      <td>NA</td>\n",
       "      <td>NA</td>\n",
       "      <td>NA</td>\n",
       "      <td>NA</td>\n",
       "      <td>NA</td>\n",
       "      <td>NA</td>\n",
       "      <td>NA</td>\n",
       "    </tr>\n",
       "    <tr>\n",
       "      <th>bigg_id</th>\n",
       "      <td>NA</td>\n",
       "      <td>NA</td>\n",
       "      <td>NA</td>\n",
       "      <td>NA</td>\n",
       "      <td>NA</td>\n",
       "      <td>NA</td>\n",
       "      <td>NA</td>\n",
       "      <td>NA</td>\n",
       "      <td>NA</td>\n",
       "      <td>NA</td>\n",
       "      <td>...</td>\n",
       "      <td>NA</td>\n",
       "      <td>NA</td>\n",
       "      <td>NA</td>\n",
       "      <td>NA</td>\n",
       "      <td>NA</td>\n",
       "      <td>NA</td>\n",
       "      <td>NA</td>\n",
       "      <td>NA</td>\n",
       "      <td>NA</td>\n",
       "      <td>NA</td>\n",
       "    </tr>\n",
       "    <tr>\n",
       "      <th>biocyc_id</th>\n",
       "      <td>NA</td>\n",
       "      <td>NA</td>\n",
       "      <td>NA</td>\n",
       "      <td>NA</td>\n",
       "      <td>NA</td>\n",
       "      <td>NA</td>\n",
       "      <td>NA</td>\n",
       "      <td>NA</td>\n",
       "      <td>NA</td>\n",
       "      <td>NA</td>\n",
       "      <td>...</td>\n",
       "      <td>NA</td>\n",
       "      <td>NA</td>\n",
       "      <td>NA</td>\n",
       "      <td>NA</td>\n",
       "      <td>NA</td>\n",
       "      <td>NA</td>\n",
       "      <td>NA</td>\n",
       "      <td>NA</td>\n",
       "      <td>NA</td>\n",
       "      <td>NA</td>\n",
       "    </tr>\n",
       "    <tr>\n",
       "      <th>chebi_id</th>\n",
       "      <td>NA</td>\n",
       "      <td>NA</td>\n",
       "      <td>NA</td>\n",
       "      <td>NA</td>\n",
       "      <td>NA</td>\n",
       "      <td>NA</td>\n",
       "      <td>NA</td>\n",
       "      <td>NA</td>\n",
       "      <td>NA</td>\n",
       "      <td>NA</td>\n",
       "      <td>...</td>\n",
       "      <td>NA</td>\n",
       "      <td>NA</td>\n",
       "      <td>NA</td>\n",
       "      <td>NA</td>\n",
       "      <td>NA</td>\n",
       "      <td>NA</td>\n",
       "      <td>NA</td>\n",
       "      <td>NA</td>\n",
       "      <td>NA</td>\n",
       "      <td>NA</td>\n",
       "    </tr>\n",
       "  </tbody>\n",
       "</table>\n",
       "<p>5 rows × 1883 columns</p>\n",
       "</div>"
      ],
      "text/plain": [
       "           1022-31-7  103192-48-9  104404-17-3  104987-11-3  1053172-87-4  \\\n",
       "CAS        1022-31-7  103192-48-9  104404-17-3  104987-11-3  1053172-87-4   \n",
       "LIPIDMAPS         NA           NA           NA           NA            NA   \n",
       "bigg_id           NA           NA           NA           NA            NA   \n",
       "biocyc_id         NA           NA           NA           NA            NA   \n",
       "chebi_id          NA           NA           NA           NA            NA   \n",
       "\n",
       "           107-43-7  107-97-1  108341-80-6  110-60-1  111-02-4  \\\n",
       "CAS        107-43-7  107-97-1  108341-80-6  110-60-1  111-02-4   \n",
       "LIPIDMAPS        NA        NA           NA        NA        NA   \n",
       "bigg_id          NA        NA           NA        NA        NA   \n",
       "biocyc_id        NA        NA           NA        NA        NA   \n",
       "chebi_id         NA        NA           NA        NA        NA   \n",
       "\n",
       "                ...       pubchem:784 pubchem:84029 pubchem:8642 pubchem:892  \\\n",
       "CAS             ...                NA            NA           NA          NA   \n",
       "LIPIDMAPS       ...                NA            NA           NA          NA   \n",
       "bigg_id         ...                NA            NA           NA          NA   \n",
       "biocyc_id       ...                NA            NA           NA          NA   \n",
       "chebi_id        ...                NA            NA           NA          NA   \n",
       "\n",
       "          pubchem:91475 pubchem:91493 pubchem:93093 pubchem:9700  \\\n",
       "CAS                  NA            NA            NA           NA   \n",
       "LIPIDMAPS            NA            NA            NA           NA   \n",
       "bigg_id              NA            NA            NA           NA   \n",
       "biocyc_id            NA            NA            NA           NA   \n",
       "chebi_id             NA            NA            NA           NA   \n",
       "\n",
       "          pubchem:9963963 pubchem:9971251  \n",
       "CAS                    NA              NA  \n",
       "LIPIDMAPS              NA              NA  \n",
       "bigg_id                NA              NA  \n",
       "biocyc_id              NA              NA  \n",
       "chebi_id               NA              NA  \n",
       "\n",
       "[5 rows x 1883 columns]"
      ]
     },
     "execution_count": 8,
     "metadata": {},
     "output_type": "execute_result"
    }
   ],
   "source": [
    "df.head()"
   ]
  },
  {
   "cell_type": "code",
   "execution_count": 9,
   "metadata": {},
   "outputs": [],
   "source": [
    "import pickle\n",
    "with open('../misc/data/wikiData.pkl','wb') as f:\n",
    "    pickle.dump(wiki,f,pickle.HIGHEST_PROTOCOL)"
   ]
  },
  {
   "cell_type": "code",
   "execution_count": 10,
   "metadata": {},
   "outputs": [
    {
     "data": {
      "text/plain": [
       "(20, 1883)"
      ]
     },
     "execution_count": 10,
     "metadata": {},
     "output_type": "execute_result"
    }
   ],
   "source": [
    "df.shape"
   ]
  }
 ],
 "metadata": {
  "kernelspec": {
   "display_name": "Python 3",
   "language": "python",
   "name": "python3"
  },
  "language_info": {
   "codemirror_mode": {
    "name": "ipython",
    "version": 3
   },
   "file_extension": ".py",
   "mimetype": "text/x-python",
   "name": "python",
   "nbconvert_exporter": "python",
   "pygments_lexer": "ipython3",
   "version": "3.5.1"
  }
 },
 "nbformat": 4,
 "nbformat_minor": 2
}
