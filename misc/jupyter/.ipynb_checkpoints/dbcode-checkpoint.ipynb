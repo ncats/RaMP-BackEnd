{
 "cells": [
  {
   "cell_type": "code",
   "execution_count": 1,
   "metadata": {},
   "outputs": [],
   "source": [
    "import sys\n",
    "import os\n",
    "os.chdir('../')"
   ]
  },
  {
   "cell_type": "code",
   "execution_count": 2,
   "metadata": {},
   "outputs": [
    {
     "data": {
      "text/plain": [
       "'C:\\\\Users\\\\81963\\\\Documents\\\\workspace\\\\RaMP\\\\src'"
      ]
     },
     "execution_count": 2,
     "metadata": {},
     "output_type": "execute_result"
    }
   ],
   "source": [
    "os.chdir('../src')\n",
    "os.getcwd()"
   ]
  },
  {
   "cell_type": "code",
   "execution_count": 3,
   "metadata": {},
   "outputs": [],
   "source": [
    "from schema import session\n",
    "from schema import Source\n",
    "from schema import Analyte"
   ]
  },
  {
   "cell_type": "code",
   "execution_count": 4,
   "metadata": {},
   "outputs": [
    {
     "name": "stdout",
     "output_type": "stream",
     "text": [
      "Analyte RAMP_C_000000001: Type compound\n",
      "[SourceId HMDB0052301: RampId RAMP_C_000000001: IDtype hmdb: geneOrCompound compound: commonName TG(24:1(15Z)/18:4(6Z,9Z,12Z,15]\n",
      "Analyte RAMP_C_000000002: Type compound\n",
      "[SourceId HMDB0063597: RampId RAMP_C_000000002: IDtype hmdb: geneOrCompound compound: commonName TG(i-19:0/a-25:0/21:0)]\n",
      "Analyte RAMP_C_000000003: Type compound\n",
      "[SourceId HMDB0043416: RampId RAMP_C_000000003: IDtype hmdb: geneOrCompound compound: commonName TG(15:0/18:2(9Z,12Z)/22:5(4Z,7]\n",
      "Analyte RAMP_C_000000004: Type compound\n",
      "[SourceId HMDB0105653: RampId RAMP_C_000000004: IDtype hmdb: geneOrCompound compound: commonName TG(a-17:0/i-13:0/a-15:0)[rac]]\n",
      "Analyte RAMP_C_000000005: Type compound\n",
      "[SourceId HMDB0052950: RampId RAMP_C_000000005: IDtype hmdb: geneOrCompound compound: commonName TG(18:3(6Z,9Z,12Z)/14:1(9Z)/18]\n",
      "Analyte RAMP_C_000000006: Type compound\n",
      "[SourceId HMDB0080257: RampId RAMP_C_000000006: IDtype hmdb: geneOrCompound compound: commonName CL(i-12:0/a-17:0/i-21:0/i-22:0]\n",
      "Analyte RAMP_C_000000007: Type compound\n",
      "[SourceId HMDB0113603: RampId RAMP_C_000000007: IDtype hmdb: geneOrCompound compound: commonName PE-NMe(22:4(7Z,10Z,13Z,16Z)/18]\n",
      "Analyte RAMP_C_000000008: Type compound\n",
      "[SourceId HMDB0094107: RampId RAMP_C_000000008: IDtype hmdb: geneOrCompound compound: commonName DG(19:0/i-22:0/0:0)]\n",
      "Analyte RAMP_C_000000009: Type compound\n",
      "[SourceId HMDB0034605: RampId RAMP_C_000000009: IDtype hmdb: geneOrCompound compound: commonName Annuolide G]\n"
     ]
    }
   ],
   "source": [
    "for i in range(1,10):\n",
    "    cpd1 = session.query(Analyte).filter_by(rampId = 'RAMP_C_00000000' + str(i)).first()\n",
    "    print(cpd1)\n",
    "    print(cpd1.sources)"
   ]
  },
  {
   "cell_type": "code",
   "execution_count": 5,
   "metadata": {},
   "outputs": [
    {
     "name": "stdout",
     "output_type": "stream",
     "text": [
      "Analyte RAMP_C_000000016: Type compound\n",
      "[SourceId chebi:61509: RampId RAMP_C_000000016: IDtype chebi: geneOrCompound compound: commonName N-acetyl-L-2-aminoadipate(2-), SourceId HMDB0062715: RampId RAMP_C_000000016: IDtype hmdb: geneOrCompound compound: commonName N-acetyl-L-2-aminoadipate(2-), SourceId pubchem:25244914: RampId RAMP_C_000000016: IDtype pubchem: geneOrCompound compound: commonName N-acetyl-L-2-aminoadipate(2-)]\n"
     ]
    }
   ],
   "source": [
    "cpd1 = session.query(Analyte).filter_by(rampId = 'RAMP_C_000000016').first()\n",
    "print(cpd1)\n",
    "print(cpd1.sources)"
   ]
  },
  {
   "cell_type": "code",
   "execution_count": 6,
   "metadata": {
    "scrolled": true
   },
   "outputs": [
    {
     "name": "stdout",
     "output_type": "stream",
     "text": [
      "<class 'schema.Source'>\n",
      "Analyte RAMP_C_000000016: Type compound\n"
     ]
    }
   ],
   "source": [
    "source1 = session.query(Source).filter_by(sourceId = 'chebi:61509').first()\n",
    "print(type(source1))\n",
    "print(source1.analyte)"
   ]
  },
  {
   "cell_type": "code",
   "execution_count": 60,
   "metadata": {},
   "outputs": [],
   "source": [
    "from sqlalchemy import literal\n",
    "q = session.query(Source).filter(Source.sourceId.like('HMDBP%')).filter(Source.IDtype == 'uniprot')"
   ]
  },
  {
   "cell_type": "code",
   "execution_count": 63,
   "metadata": {
    "scrolled": false
   },
   "outputs": [
    {
     "name": "stdout",
     "output_type": "stream",
     "text": [
      "[('hmdb',)]\n"
     ]
    }
   ],
   "source": [
    "q2 = session.query(Source.IDtype).filter(Source.sourceId.like('HMDBP%'))\n",
    "print(q2.distinct().all())\n"
   ]
  },
  {
   "cell_type": "code",
   "execution_count": 61,
   "metadata": {},
   "outputs": [
    {
     "name": "stdout",
     "output_type": "stream",
     "text": [
      "0\n"
     ]
    }
   ],
   "source": [
    "print(len(q.all()))\n",
    "q.update({Source.IDtype:'hmdb'},synchronize_session='False')"
   ]
  },
  {
   "cell_type": "code",
   "execution_count": 74,
   "metadata": {},
   "outputs": [
    {
     "data": {
      "text/plain": [
       "[{'aliased': False,\n",
       "  'entity': schema.Source,\n",
       "  'expr': schema.Source,\n",
       "  'name': 'Source',\n",
       "  'type': schema.Source}]"
      ]
     },
     "execution_count": 74,
     "metadata": {},
     "output_type": "execute_result"
    }
   ],
   "source": [
    "newQuery = session.query(Source)\n",
    "newQuery.column_descriptions"
   ]
  },
  {
   "cell_type": "code",
   "execution_count": 75,
   "metadata": {},
   "outputs": [
    {
     "data": {
      "text/plain": [
       "['sourceId', 'rampId', 'IDtype', 'geneOrCompound', 'commonName']"
      ]
     },
     "execution_count": 75,
     "metadata": {},
     "output_type": "execute_result"
    }
   ],
   "source": [
    "Source.__table__.columns.keys()"
   ]
  },
  {
   "cell_type": "code",
   "execution_count": 76,
   "metadata": {},
   "outputs": [
    {
     "name": "stdout",
     "output_type": "stream",
     "text": [
      "5\n"
     ]
    }
   ],
   "source": [
    "exec('what = 5')\n",
    "print(what)"
   ]
  }
 ],
 "metadata": {
  "kernelspec": {
   "display_name": "Python 3",
   "language": "python",
   "name": "python3"
  },
  "language_info": {
   "codemirror_mode": {
    "name": "ipython",
    "version": 3
   },
   "file_extension": ".py",
   "mimetype": "text/x-python",
   "name": "python",
   "nbconvert_exporter": "python",
   "pygments_lexer": "ipython3",
   "version": "3.5.1"
  }
 },
 "nbformat": 4,
 "nbformat_minor": 2
}
