{
 "cells": [
  {
   "cell_type": "code",
   "execution_count": 1,
   "metadata": {},
   "outputs": [
    {
     "data": {
      "text/plain": [
       "'C:\\\\Users\\\\81963\\\\Documents\\\\workspace\\\\RaMP\\\\src'"
      ]
     },
     "execution_count": 1,
     "metadata": {},
     "output_type": "execute_result"
    }
   ],
   "source": [
    "import sys\n",
    "import os\n",
    "os.chdir('../')\n",
    "os.chdir('../src')\n",
    "os.getcwd()"
   ]
  },
  {
   "cell_type": "code",
   "execution_count": 3,
   "metadata": {},
   "outputs": [],
   "source": [
    "import urllib.request as RE\n",
    "import pymysql as pysql\n",
    "from update.RaMPDatabase import RaMPDatabase\n",
    "import pandas as pd\n",
    "\n",
    "ramp = RaMPDatabase()\n",
    "\n",
    "conn = ramp.connectToRaMP(dbname = 'updateramp')\n"
   ]
  },
  {
   "cell_type": "code",
   "execution_count": 10,
   "metadata": {},
   "outputs": [],
   "source": [
    "hmdbid = pd.read_sql('select * from source;',conn)"
   ]
  },
  {
   "cell_type": "code",
   "execution_count": null,
   "metadata": {},
   "outputs": [],
   "source": []
  },
  {
   "cell_type": "code",
   "execution_count": 13,
   "metadata": {},
   "outputs": [
    {
     "name": "stdout",
     "output_type": "stream",
     "text": [
      "(114101, 5)\n"
     ]
    },
    {
     "data": {
      "text/html": [
       "<div>\n",
       "<style scoped>\n",
       "    .dataframe tbody tr th:only-of-type {\n",
       "        vertical-align: middle;\n",
       "    }\n",
       "\n",
       "    .dataframe tbody tr th {\n",
       "        vertical-align: top;\n",
       "    }\n",
       "\n",
       "    .dataframe thead th {\n",
       "        text-align: right;\n",
       "    }\n",
       "</style>\n",
       "<table border=\"1\" class=\"dataframe\">\n",
       "  <thead>\n",
       "    <tr style=\"text-align: right;\">\n",
       "      <th></th>\n",
       "      <th>sourceId</th>\n",
       "      <th>rampId</th>\n",
       "      <th>IDtype</th>\n",
       "      <th>geneOrCompound</th>\n",
       "      <th>commonName</th>\n",
       "    </tr>\n",
       "  </thead>\n",
       "  <tbody>\n",
       "    <tr>\n",
       "      <th>53234</th>\n",
       "      <td>hmdb:HMDB0000001</td>\n",
       "      <td>RAMP_C_000008903</td>\n",
       "      <td>hmdb</td>\n",
       "      <td>compound</td>\n",
       "      <td>1-Methylhistidine</td>\n",
       "    </tr>\n",
       "    <tr>\n",
       "      <th>53235</th>\n",
       "      <td>hmdb:HMDB0000002</td>\n",
       "      <td>RAMP_C_000063389</td>\n",
       "      <td>hmdb</td>\n",
       "      <td>compound</td>\n",
       "      <td>1,3-Diaminopropane</td>\n",
       "    </tr>\n",
       "    <tr>\n",
       "      <th>53236</th>\n",
       "      <td>hmdb:HMDB0000005</td>\n",
       "      <td>RAMP_C_000034330</td>\n",
       "      <td>hmdb</td>\n",
       "      <td>compound</td>\n",
       "      <td>2-Ketobutyric acid</td>\n",
       "    </tr>\n",
       "    <tr>\n",
       "      <th>53237</th>\n",
       "      <td>hmdb:HMDB0000008</td>\n",
       "      <td>RAMP_C_000073086</td>\n",
       "      <td>hmdb</td>\n",
       "      <td>compound</td>\n",
       "      <td>2-Hydroxybutyric acid</td>\n",
       "    </tr>\n",
       "    <tr>\n",
       "      <th>53238</th>\n",
       "      <td>hmdb:HMDB0000010</td>\n",
       "      <td>RAMP_C_000027643</td>\n",
       "      <td>hmdb</td>\n",
       "      <td>compound</td>\n",
       "      <td>2-Methoxyestrone</td>\n",
       "    </tr>\n",
       "  </tbody>\n",
       "</table>\n",
       "</div>"
      ],
      "text/plain": [
       "               sourceId            rampId IDtype geneOrCompound  \\\n",
       "53234  hmdb:HMDB0000001  RAMP_C_000008903   hmdb       compound   \n",
       "53235  hmdb:HMDB0000002  RAMP_C_000063389   hmdb       compound   \n",
       "53236  hmdb:HMDB0000005  RAMP_C_000034330   hmdb       compound   \n",
       "53237  hmdb:HMDB0000008  RAMP_C_000073086   hmdb       compound   \n",
       "53238  hmdb:HMDB0000010  RAMP_C_000027643   hmdb       compound   \n",
       "\n",
       "                  commonName  \n",
       "53234      1-Methylhistidine  \n",
       "53235     1,3-Diaminopropane  \n",
       "53236     2-Ketobutyric acid  \n",
       "53237  2-Hydroxybutyric acid  \n",
       "53238       2-Methoxyestrone  "
      ]
     },
     "execution_count": 13,
     "metadata": {},
     "output_type": "execute_result"
    }
   ],
   "source": [
    "df = hmdbid.copy()\n",
    "df = df.loc[(df['IDtype'] == 'hmdb') & (df['geneOrCompound'] == 'compound') ]\n",
    "print(df.shape)\n",
    "df.head()"
   ]
  },
  {
   "cell_type": "code",
   "execution_count": 16,
   "metadata": {},
   "outputs": [
    {
     "data": {
      "text/html": [
       "<div>\n",
       "<style scoped>\n",
       "    .dataframe tbody tr th:only-of-type {\n",
       "        vertical-align: middle;\n",
       "    }\n",
       "\n",
       "    .dataframe tbody tr th {\n",
       "        vertical-align: top;\n",
       "    }\n",
       "\n",
       "    .dataframe thead th {\n",
       "        text-align: right;\n",
       "    }\n",
       "</style>\n",
       "<table border=\"1\" class=\"dataframe\">\n",
       "  <thead>\n",
       "    <tr style=\"text-align: right;\">\n",
       "      <th></th>\n",
       "      <th>sourceId</th>\n",
       "      <th>rampId</th>\n",
       "      <th>IDtype</th>\n",
       "      <th>geneOrCompound</th>\n",
       "      <th>commonName</th>\n",
       "    </tr>\n",
       "  </thead>\n",
       "  <tbody>\n",
       "    <tr>\n",
       "      <th>count</th>\n",
       "      <td>114101</td>\n",
       "      <td>114101</td>\n",
       "      <td>114101</td>\n",
       "      <td>114101</td>\n",
       "      <td>114101</td>\n",
       "    </tr>\n",
       "    <tr>\n",
       "      <th>unique</th>\n",
       "      <td>114101</td>\n",
       "      <td>111006</td>\n",
       "      <td>1</td>\n",
       "      <td>1</td>\n",
       "      <td>97178</td>\n",
       "    </tr>\n",
       "    <tr>\n",
       "      <th>top</th>\n",
       "      <td>hmdb:HMDB0068982</td>\n",
       "      <td>RAMP_C_000000083</td>\n",
       "      <td>hmdb</td>\n",
       "      <td>compound</td>\n",
       "      <td>2-amino-4-({1-[(carboxymethyl)</td>\n",
       "    </tr>\n",
       "    <tr>\n",
       "      <th>freq</th>\n",
       "      <td>1</td>\n",
       "      <td>989</td>\n",
       "      <td>114101</td>\n",
       "      <td>114101</td>\n",
       "      <td>134</td>\n",
       "    </tr>\n",
       "  </tbody>\n",
       "</table>\n",
       "</div>"
      ],
      "text/plain": [
       "                sourceId            rampId  IDtype geneOrCompound  \\\n",
       "count             114101            114101  114101         114101   \n",
       "unique            114101            111006       1              1   \n",
       "top     hmdb:HMDB0068982  RAMP_C_000000083    hmdb       compound   \n",
       "freq                   1               989  114101         114101   \n",
       "\n",
       "                            commonName  \n",
       "count                           114101  \n",
       "unique                           97178  \n",
       "top     2-amino-4-({1-[(carboxymethyl)  \n",
       "freq                               134  "
      ]
     },
     "execution_count": 16,
     "metadata": {},
     "output_type": "execute_result"
    }
   ],
   "source": [
    "df.describe()"
   ]
  },
  {
   "cell_type": "code",
   "execution_count": 14,
   "metadata": {},
   "outputs": [],
   "source": [
    "listofids = df['sourceId'].tolist()"
   ]
  },
  {
   "cell_type": "code",
   "execution_count": 17,
   "metadata": {},
   "outputs": [],
   "source": [
    "listofids = map(lambda x:x.replace('hmdb:HMDB00','HMDB'),listofids)"
   ]
  },
  {
   "cell_type": "code",
   "execution_count": 19,
   "metadata": {},
   "outputs": [],
   "source": [
    "listofids = list(listofids)"
   ]
  },
  {
   "cell_type": "code",
   "execution_count": 31,
   "metadata": {},
   "outputs": [
    {
     "name": "stdout",
     "output_type": "stream",
     "text": [
      "http://webservice.bridgedb.org/Human/xrefs/Ch/HMDB00001\n"
     ]
    }
   ],
   "source": [
    "url = 'http://webservice.bridgedb.org/Human/xrefs/Ch/'\n",
    "oneid = listofids[0]\n",
    "web = url + oneid\n",
    "print(web)\n",
    "mapping = RE.urlopen(url+oneid)"
   ]
  },
  {
   "cell_type": "code",
   "execution_count": 32,
   "metadata": {},
   "outputs": [],
   "source": [
    "info = mapping.read()"
   ]
  },
  {
   "cell_type": "code",
   "execution_count": 33,
   "metadata": {},
   "outputs": [],
   "source": [
    "info = info.decode('utf-8')"
   ]
  },
  {
   "cell_type": "code",
   "execution_count": 35,
   "metadata": {},
   "outputs": [
    {
     "data": {
      "text/plain": [
       "['92105\\tPubChem-compound',\n",
       " 'Q27094989\\tWikidata',\n",
       " 'C01152\\tKEGG Compound',\n",
       " 'CHEBI:50599\\tChEBI',\n",
       " 'DTXSID50186848\\tEPA CompTox',\n",
       " '83153\\tChemspider',\n",
       " '50599\\tChEBI',\n",
       " 'HMDB00001\\tHMDB',\n",
       " '332-80-9\\tCAS',\n",
       " 'BRMWTNUJHUMWMS-LURJTMIESA-N\\tInChIKey',\n",
       " '']"
      ]
     },
     "execution_count": 35,
     "metadata": {},
     "output_type": "execute_result"
    }
   ],
   "source": [
    "info = info.split('\\n')\n",
    "info"
   ]
  }
 ],
 "metadata": {
  "kernelspec": {
   "display_name": "Python 3",
   "language": "python",
   "name": "python3"
  },
  "language_info": {
   "codemirror_mode": {
    "name": "ipython",
    "version": 3
   },
   "file_extension": ".py",
   "mimetype": "text/x-python",
   "name": "python",
   "nbconvert_exporter": "python",
   "pygments_lexer": "ipython3",
   "version": "3.5.1"
  }
 },
 "nbformat": 4,
 "nbformat_minor": 2
}
